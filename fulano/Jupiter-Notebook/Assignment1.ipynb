{
 "cells": [
  {
   "cell_type": "code",
   "execution_count": 7,
   "metadata": {},
   "outputs": [
    {
     "name": "stdout",
     "output_type": "stream",
     "text": [
      "Ingrese un numero 3\n",
      "9\n"
     ]
    }
   ],
   "source": [
    "#1\n",
    "entero = input(\"Ingrese un numero \")\n",
    "print(int(entero)*3)"
   ]
  },
  {
   "cell_type": "code",
   "execution_count": 11,
   "metadata": {},
   "outputs": [
    {
     "name": "stdout",
     "output_type": "stream",
     "text": [
      "Cual es la longitud de su habitación? 2.2\n",
      "Cual es el ancho de su habitación? 2\n",
      "La superficie de su habitación es  4.4 m^2\n"
     ]
    }
   ],
   "source": [
    "2#\n",
    "longitud= input(\"Cual es la longitud de su habitación? \")\n",
    "ancho = input(\"Cual es el ancho de su habitación? \")\n",
    "print(\"La superficie de su habitación es \", float(longitud)*float(ancho),\"m^2\")"
   ]
  },
  {
   "cell_type": "code",
   "execution_count": 14,
   "metadata": {},
   "outputs": [
    {
     "name": "stdout",
     "output_type": "stream",
     "text": [
      "Cual es el radio del cilindro? 2\n",
      "Cual es la altura del cilindro? 2\n",
      "Area=  50.24 m^2\n",
      "Volumen=  25.12 m^3\n"
     ]
    }
   ],
   "source": [
    "#3\n",
    "radio= input(\"Cual es el radio del cilindro? \")\n",
    "altura = input(\"Cual es la altura del cilindro? \")\n",
    "print(\"Area= \", ((2)*(3.14)*(float(radio))*(float(altura))) + ((2)*(3.14)*(float(radio)**2)),\"m^2\")\n",
    "print(\"Volumen= \", (3.14)*(float(radio)**2)*(float(altura)),\"m^3\")"
   ]
  },
  {
   "cell_type": "code",
   "execution_count": 34,
   "metadata": {},
   "outputs": [
    {
     "name": "stdout",
     "output_type": "stream",
     "text": [
      "Masa 1? 3\n",
      "Masa 2? 5\n",
      "Distancia que las separa? 2\n",
      "Fuerza=  1.501425e-07 g*cm/seg^2\n"
     ]
    }
   ],
   "source": [
    "#4\n",
    "masa1= input(\"Masa 1? \")\n",
    "masa2 = input(\"Masa 2? \")\n",
    "distancia = input(\"Distancia que las separa? \")\n",
    "constante = 6.673*(10**(-8))\n",
    "numerador= float(constante)*float(masa1)*float(masa1)\n",
    "print(\"Fuerza= \", float(numerador/float(distancia)**2),\"g*cm/seg^2\")"
   ]
  },
  {
   "cell_type": "code",
   "execution_count": 38,
   "metadata": {},
   "outputs": [
    {
     "name": "stdout",
     "output_type": "stream",
     "text": [
      "Masa en gramos? 2\n",
      "Energia=  599585000.0\n"
     ]
    }
   ],
   "source": [
    "5#\n",
    "masa= input(\"Masa en gramos? \")\n",
    "constante=2.997925*(10**8)\n",
    "print(\"Energia= \", float(masa)*constante)"
   ]
  },
  {
   "cell_type": "markdown",
   "metadata": {},
   "source": []
  },
  {
   "cell_type": "code",
   "execution_count": 115,
   "metadata": {},
   "outputs": [
    {
     "name": "stdout",
     "output_type": "stream",
     "text": [
      "Cual es la hora? 13:34\n",
      "1 : 34 PM\n"
     ]
    }
   ],
   "source": [
    "#6\n",
    "hora= input(\"Cual es la hora? \")\n",
    "separado= hora.split(sep=\":\")\n",
    "if(int(separado[0])>=12):\n",
    "    print(int(separado[0])%12,\":\",separado[1],\"PM\")\n",
    "else:\n",
    "    print(separado[0],\":\",separado[1],\"AM\")"
   ]
  },
  {
   "cell_type": "code",
   "execution_count": 116,
   "metadata": {},
   "outputs": [
    {
     "name": "stdout",
     "output_type": "stream",
     "text": [
      "A =23\n"
     ]
    }
   ],
   "source": [
    "#7\n",
    "A = input(\"A =\")\n",
    "B = int(A)+10\n",
    "C = 2*int(B) + int(A)\n",
    "D = int(A) + int(B) + int(C) +5\n",
    "print(\"A=\", A,\"\\nB=\", B,\"\\nC=\", C,\"\\nD=\",D,file=open(\"practica01.out\",\"w\"))"
   ]
  },
  {
   "cell_type": "code",
   "execution_count": 117,
   "metadata": {},
   "outputs": [
    {
     "name": "stdout",
     "output_type": "stream",
     "text": [
      "Numero decimal= 23.22\n",
      "Decimal=  23.22\n",
      "Valor absoluto=  23.22\n",
      "Parte decimal=  22\n"
     ]
    }
   ],
   "source": [
    "#8\n",
    "decimal= input(\"Numero decimal= \")\n",
    "print(\"Decimal= \",decimal)\n",
    "if(float(decimal)<0):\n",
    "    print(\"Valor absoluto= \",-1*float(decimal))\n",
    "else:\n",
    "    print(\"Valor absoluto= \",float(decimal))\n",
    "parte= decimal.split(sep=\".\")\n",
    "print(\"Parte decimal= \",parte[1])"
   ]
  },
  {
   "cell_type": "code",
   "execution_count": 118,
   "metadata": {},
   "outputs": [],
   "source": [
    "#9\n",
    "lista=[A,B,C,D]\n",
    "lista.sort\n",
    "f = open(\"practica01.out\")\n",
    "print(\"Menor= \",lista[0],\"\\nMayor= \",lista[1],file=open(\"practica01.out\",\"a\"))"
   ]
  },
  {
   "cell_type": "code",
   "execution_count": 119,
   "metadata": {},
   "outputs": [
    {
     "name": "stdout",
     "output_type": "stream",
     "text": [
      "X =2\n",
      "Y =2\n",
      "Z =2\n"
     ]
    }
   ],
   "source": [
    "#10\n",
    "x = input(\"X =\")\n",
    "y = input(\"Y =\")\n",
    "z = input(\"Z =\")\n",
    "A = int(x)**2 + int(y)**2 + int(z)**2\n",
    "if(A<100 and int(y)<5):\n",
    "    B = (int(x)+int(y))**2 - int(x)*int(z) \n",
    "else:\n",
    "    B = (int(x)-int(y))**2 + int(x)*int(z)\n",
    "print(\"A= \",A,\"\\nB= \",B,file=open(\"practica01.out\",\"a\"))"
   ]
  },
  {
   "cell_type": "code",
   "execution_count": null,
   "metadata": {},
   "outputs": [],
   "source": []
  }
 ],
 "metadata": {
  "kernelspec": {
   "display_name": "Python 3",
   "language": "python",
   "name": "python3"
  },
  "language_info": {
   "codemirror_mode": {
    "name": "ipython",
    "version": 3
   },
   "file_extension": ".py",
   "mimetype": "text/x-python",
   "name": "python",
   "nbconvert_exporter": "python",
   "pygments_lexer": "ipython3",
   "version": "3.7.4"
  }
 },
 "nbformat": 4,
 "nbformat_minor": 2
}
