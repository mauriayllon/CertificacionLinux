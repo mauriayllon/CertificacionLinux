{
 "cells": [
  {
   "cell_type": "code",
   "execution_count": 120,
   "metadata": {},
   "outputs": [
    {
     "name": "stdout",
     "output_type": "stream",
     "text": [
      "Ingrese un numero 2\n",
      "6\n"
     ]
    }
   ],
   "source": [
    "#1.Escriba un programa que lea un entero (input), lo multiplique por 3 y lo imprima.\n",
    "entero = input(\"Ingrese un numero \")\n",
    "print(int(entero)*3)"
   ]
  },
  {
   "cell_type": "code",
   "execution_count": 11,
   "metadata": {},
   "outputs": [
    {
     "name": "stdout",
     "output_type": "stream",
     "text": [
      "Cual es la longitud de su habitación? 2.2\n",
      "Cual es el ancho de su habitación? 2\n",
      "La superficie de su habitación es  4.4 m^2\n"
     ]
    }
   ],
   "source": [
    "#2. Escribir un programa que pida al cliente la longitud y ancho de la habitación e imprima la superficie de la habitación, los valores podrán tener decimales.\n",
    "#Formato de salida deseado: xx.yy m^2\n",
    "longitud= input(\"Cual es la longitud de su habitación? \")\n",
    "ancho = input(\"Cual es el ancho de su habitación? \")\n",
    "print(\"La superficie de su habitación es \", float(longitud)*float(ancho),\"m^2\")"
   ]
  },
  {
   "cell_type": "code",
   "execution_count": 14,
   "metadata": {},
   "outputs": [
    {
     "name": "stdout",
     "output_type": "stream",
     "text": [
      "Cual es el radio del cilindro? 2\n",
      "Cual es la altura del cilindro? 2\n",
      "Area=  50.24 m^2\n",
      "Volumen=  25.12 m^3\n"
     ]
    }
   ],
   "source": [
    "#3 Determinar el área y volumen de un cilindro cuyas dimensiones (radio - altura) se lean desde el teclado.\n",
    "#Formato de salida deseado: xx.yy m^3\n",
    "radio= input(\"Cual es el radio del cilindro? \")\n",
    "altura = input(\"Cual es la altura del cilindro? \")\n",
    "print(\"Area= \", ((2)*(3.14)*(float(radio))*(float(altura))) + ((2)*(3.14)*(float(radio)**2)),\"m^2\")\n",
    "print(\"Volumen= \", (3.14)*(float(radio)**2)*(float(altura)),\"m^3\")"
   ]
  },
  {
   "cell_type": "code",
   "execution_count": 121,
   "metadata": {},
   "outputs": [
    {
     "name": "stdout",
     "output_type": "stream",
     "text": [
      "Masa 1? 2\n",
      "Masa 2? 2\n",
      "Distancia que las separa? 2\n",
      "Fuerza=  6.673e-08 g*cm/seg^2\n"
     ]
    }
   ],
   "source": [
    "#4.La fuerza de atracción entre dos masas m1 y m2 separadas por una distancia d, está dada por la fórmula:\n",
    "#F =G m 1 m 2 / d 2\n",
    "#Donde G es la constante de gravitación universal: G  6 . 673 X 10  8 cm 3 / g * seg 2\n",
    "#Escriba un programa que lea la masa de dos cuerpos y la distancia entre ellos y a continuación obtenga la fuerza gravitacional entre ella. La salida debe ser en dinas; un\n",
    "# DINA es igual a g*cm/seg 2.\n",
    "#Formato de salida deseado: xx.yy dyn\n",
    "masa1= input(\"Masa 1? \")\n",
    "masa2 = input(\"Masa 2? \")\n",
    "distancia = input(\"Distancia que las separa? \")\n",
    "constante = 6.673*(10**(-8))\n",
    "numerador= float(constante)*float(masa1)*float(masa1)\n",
    "print(\"Fuerza= \", float(numerador/float(distancia)**2),\"g*cm/seg^2\")"
   ]
  },
  {
   "cell_type": "code",
   "execution_count": 38,
   "metadata": {},
   "outputs": [
    {
     "name": "stdout",
     "output_type": "stream",
     "text": [
      "Masa en gramos? 2\n",
      "Energia=  599585000.0\n"
     ]
    }
   ],
   "source": [
    "#5. La famosa ecuación de Einstein para conversión de una masa m en energía viene dada por la fórmula = E = cm 3\n",
    "#c es la velocidad de la luz\n",
    "#c = 2 . 997925 X 10 10 m / seg\n",
    "#Escribir un programa que lea una masa en gramos y obtenga la cantidad de energía\n",
    "#producida cuando la masa se convierta en energía.\n",
    "#Nota: se la masa se da en gramos, la fórmula produce la energía en ergios.\n",
    "#Formato de salida deseado: xx.yy erg\n",
    "masa= input(\"Masa en gramos? \")\n",
    "constante=2.997925*(10**8)\n",
    "print(\"Energia= \", float(masa)*constante)"
   ]
  },
  {
   "cell_type": "markdown",
   "metadata": {},
   "source": []
  },
  {
   "cell_type": "code",
   "execution_count": 123,
   "metadata": {},
   "outputs": [
    {
     "name": "stdout",
     "output_type": "stream",
     "text": [
      "Cual es la hora? 23:34\n",
      "11 : 34 PM\n"
     ]
    }
   ],
   "source": [
    "#6. Escribir un programa que lea la hora en un día de notación 24 horas y escriba la \n",
    "#respuesta en notación de 12 horas. Por ejemplo, si la entrada es 13:45, la salida será: 1:45 PM\n",
    "#El programa pedirá al usuario que introduzca exactamente cinco caracteres. Así, por\n",
    "#ejemplo, las nueve en punto se introduce como: 09:00\n",
    "hora= input(\"Cual es la hora? \")\n",
    "separado= hora.split(sep=\":\")\n",
    "if(int(separado[0])>=12):\n",
    "    print(int(separado[0])%12,\":\",separado[1],\"PM\")\n",
    "else:\n",
    "    print(separado[0],\":\",separado[1],\"AM\")"
   ]
  },
  {
   "cell_type": "code",
   "execution_count": 125,
   "metadata": {},
   "outputs": [
    {
     "name": "stdout",
     "output_type": "stream",
     "text": [
      "A =2\n"
     ]
    }
   ],
   "source": [
    "#7. Leer un número A, evaluar sucesivamente las expresiones siguientes y desplegar los\n",
    "#resultados obtenidos en un archivo denominado “practica01.out”.\n",
    "#B = A + 10\n",
    "#C = 2 * B + A\n",
    "#D = A + B + C + 5\n",
    "#Formato de salida deseado:\n",
    "#Ejercicio 9.\n",
    "#A = xx\n",
    "#B = yy\n",
    "#C = zz\n",
    "#D = xyz\n",
    "A = input(\"A =\")\n",
    "B = int(A)+10\n",
    "C = 2*int(B) + int(A)\n",
    "D = int(A) + int(B) + int(C) +5\n",
    "print(\"A=\", A,\"\\nB=\", B,\"\\nC=\", C,\"\\nD=\",D,file=open(\"practica01.out\",\"w\"))"
   ]
  },
  {
   "cell_type": "markdown",
   "metadata": {},
   "source": [
    "#No me deja insertar el ejercicio 8, esta al final de la pagina."
   ]
  },
  {
   "cell_type": "code",
   "execution_count": 129,
   "metadata": {},
   "outputs": [],
   "source": [
    "#9. Leer a, b, c y d, hallar el menor y mayor de los cuatro números, desplegar su resultado\n",
    "#en el archivo “practica01.out”.\n",
    "lista=[A,B,C,D]\n",
    "lista.sort\n",
    "f = open(\"practica01.out\")\n",
    "print(\"Menor= \",lista[0],\"\\nMayor= \",lista[1],file=open(\"practica01.out\",\"a\"))"
   ]
  },
  {
   "cell_type": "code",
   "execution_count": 130,
   "metadata": {},
   "outputs": [
    {
     "name": "stdout",
     "output_type": "stream",
     "text": [
      "X =2\n",
      "Y =2\n",
      "Z =2\n"
     ]
    }
   ],
   "source": [
    "#10. Dado los valores de X, Y, Z, evaluar A = X^2+Y^2+Z^2. Si se cumple que, A<100 y Y<5\n",
    "#calcular B = (X+Y)^2 – X*Z, caso contrario calcular B = (X-Y)^2 + X*Z. Desplegar A y B\n",
    "#en el archivo “practica01.out”\n",
    "x = input(\"X =\")\n",
    "y = input(\"Y =\")\n",
    "z = input(\"Z =\")\n",
    "A = int(x)**2 + int(y)**2 + int(z)**2\n",
    "if(A<100 and int(y)<5):\n",
    "    B = (int(x)+int(y))**2 - int(x)*int(z) \n",
    "else:\n",
    "    B = (int(x)-int(y))**2 + int(x)*int(z)\n",
    "print(\"A= \",A,\"\\nB= \",B,file=open(\"practica01.out\",\"a\"))"
   ]
  },
  {
   "cell_type": "code",
   "execution_count": 127,
   "metadata": {},
   "outputs": [
    {
     "name": "stdout",
     "output_type": "stream",
     "text": [
      "Numero decimal= 2.3\n",
      "Decimal=  2.3\n",
      "Valor absoluto=  2.3\n",
      "Parte decimal=  3\n"
     ]
    }
   ],
   "source": [
    "#8. Hacer leer un número X de tipo decimal, hallar su valor absoluto y decimal, desplegar el resultado dentro del archivo “practica01.out”.\n",
    "#Formato de salida deseado:\n",
    "#Ejercicio 8.\n",
    "#Número: xx.yy\n",
    "#Valor absoluto: xx\n",
    "#Parte decimal: yy\n",
    "decimal= input(\"Numero decimal= \")\n",
    "print(\"Decimal= \",decimal)\n",
    "if(float(decimal)<0):\n",
    "    print(\"Valor absoluto= \",-1*float(decimal))\n",
    "else:\n",
    "    print(\"Valor absoluto= \",float(decimal))\n",
    "parte= decimal.split(sep=\".\")\n",
    "print(\"Parte decimal= \",parte[1])"
   ]
  },
  {
   "cell_type": "code",
   "execution_count": null,
   "metadata": {},
   "outputs": [],
   "source": []
  }
 ],
 "metadata": {
  "kernelspec": {
   "display_name": "Python 3",
   "language": "python",
   "name": "python3"
  },
  "language_info": {
   "codemirror_mode": {
    "name": "ipython",
    "version": 3
   },
   "file_extension": ".py",
   "mimetype": "text/x-python",
   "name": "python",
   "nbconvert_exporter": "python",
   "pygments_lexer": "ipython3",
   "version": "3.7.4"
  }
 },
 "nbformat": 4,
 "nbformat_minor": 2
}
