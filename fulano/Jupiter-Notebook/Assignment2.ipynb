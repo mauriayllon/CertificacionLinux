{
 "cells": [
  {
   "cell_type": "code",
   "execution_count": 123,
   "metadata": {},
   "outputs": [
    {
     "name": "stdout",
     "output_type": "stream",
     "text": [
      "Ingrese un año: 31414132\n",
      "31414132 es bisiesto\n"
     ]
    }
   ],
   "source": [
    "#21. Escribir un programa que determine si el año es bisiesto. Un año es bisiesto si es\n",
    "#    múltiplo de 4 (1988), excepto los múltiplos de 100 que no son bisiestos salvo que a su\n",
    "#    vez también sean múltiplos de 400 (1800no es bisiesto, 2000 sí).\n",
    "ano=int(input(\"Ingrese un año: \"))\n",
    "if(ano%400==0):\n",
    "    print(f\"{ano} es bisiesto\")\n",
    "elif(ano%4==0 and ano%100==0):\n",
    "    print(f\"{ano} no es bisiesto\")\n",
    "elif(ano%4==0):\n",
    "    print(f\"{ano} es bisiesto\")\n",
    "else:\n",
    "    print(f\"{ano} no es bisiesto\")"
   ]
  },
  {
   "cell_type": "code",
   "execution_count": 118,
   "metadata": {},
   "outputs": [
    {
     "name": "stdout",
     "output_type": "stream",
     "text": [
      "Coeficiente de A= 1\n",
      "Coeficiente de B= 1\n",
      "Coeficiente de C= 1\n",
      "La ecuacion tiene no tiene soluciones reales\n"
     ]
    }
   ],
   "source": [
    "#22. Dado los valores de A, B, C que son los coeficientes de la ecuación de segundo grado,\n",
    "#    hallar sus raíces reales, desplegar los resultados.\n",
    "import math\n",
    "a = int(input(\"Coeficiente de A= \"))\n",
    "b = int(input(\"Coeficiente de B= \"))\n",
    "c = int(input(\"Coeficiente de C= \"))\n",
    "t=(b**2)-(4*a*c)\n",
    "if(t>=0):\n",
    "    sol = (-b + math.sqrt(t)) / (2*a)\n",
    "    sol1 = (-b - math.sqrt(t)) / (2*a)\n",
    "    if(sol==sol1):\n",
    "        print(\"La ecuacion tiene una unica solucion\",round(sol,2))\n",
    "    else:\n",
    "        print(\"La ecuacion tiene dos soluciones\",round(sol,2),\" y \",round(sol1,2))  \n",
    "else:\n",
    "    #sol = complex(round(-b/(2*a),2),round((math.sqrt(abs(t))/(2*a)),2))\n",
    "    #sol1= complex(round(-b/(2*a),2),round(-((math.sqrt(abs(t))/(2*a))),2))\n",
    "    #print(\"La ecuacion tiene dos soluciones\",sol,\" y \",sol1)\n",
    "    print(\"La ecuacion tiene no tiene soluciones reales\")"
   ]
  },
  {
   "cell_type": "code",
   "execution_count": 195,
   "metadata": {},
   "outputs": [
    {
     "name": "stdout",
     "output_type": "stream",
     "text": [
      "Ingrese un numero= 23\n",
      "Ingrese otro numero= -2\n",
      "La producto de 23 y -2 =  -46\n"
     ]
    }
   ],
   "source": [
    "#23. Dado dos valores A y B, realizar el producto de los dos números por sumas sucesivas,\n",
    "#    almacenar el resultado en una variable P, mostrar el resultado.\n",
    "num1=int(input(\"Ingrese un numero= \"))\n",
    "num2=int(input(\"Ingrese otro numero= \"))\n",
    "suma=0\n",
    "c=0\n",
    "a\n",
    "print(f\"La producto de {num1} y {num2} = \",end=\" \")\n",
    "numeros=[num1,num2]\n",
    "if(num2<0 and num1<0):\n",
    "    a=-1\n",
    "else:\n",
    "    a=1\n",
    "num2=abs(max(numeros))\n",
    "num1=min(numeros)\n",
    "while c<num2:\n",
    "    suma=suma+num1\n",
    "    c=c+1\n",
    "print(a*suma)"
   ]
  },
  {
   "cell_type": "code",
   "execution_count": 116,
   "metadata": {},
   "outputs": [
    {
     "name": "stdout",
     "output_type": "stream",
     "text": [
      "Ingrese un numero: 2345365346\n",
      "10\n"
     ]
    }
   ],
   "source": [
    "#24. Dado un número X, determinar el número de dígitos del que esta compuesto y\n",
    "#    desplegar el resultado.\n",
    "numero = int((input(\"Ingrese un numero: \")))\n",
    "c=0\n",
    "while not numero<10:\n",
    "    numero=numero//10\n",
    "    c=c+1\n",
    "print(c+1)"
   ]
  },
  {
   "cell_type": "code",
   "execution_count": 52,
   "metadata": {},
   "outputs": [
    {
     "name": "stdout",
     "output_type": "stream",
     "text": [
      "Cuantos numeros quieres escribir? 10\n",
      "Escriba un numero(1 de 10): 10\n",
      "Escriba un numero(2 de 10): 10\n",
      "Escriba un numero(3 de 10): 10\n",
      "Escriba un numero(4 de 10): 9\n",
      "Escriba un numero(5 de 10): 9\n",
      "Escriba un numero(6 de 10): 99\n",
      "Escriba un numero(7 de 10): 9\n",
      "Escriba un numero(8 de 10): 9\n",
      "Escriba un numero(9 de 10): 9\n",
      "Escriba un numero(10 de 10): 9\n",
      "El numero mas pequeño fue 10, el mas grande fue 9 y el promedio fue 18.3\n"
     ]
    }
   ],
   "source": [
    "#25. Escribir un programa que calcule y visualice el más grande, el más pequeño y la media\n",
    "#    de N números. El valor de N se solicitará al principio del programa y los números\n",
    "#    serán introducidos por el usuario.\n",
    "n = int(input(\"Cuantos numeros quieres escribir? \"))\n",
    "i = 0\n",
    "numeros=[]\n",
    "c = 1\n",
    "while c<=n:\n",
    "    i = int(input(f\"Escriba un numero({c} de {n}): \"))\n",
    "    numeros.append(i)\n",
    "    c=c+1\n",
    "numeros.sort\n",
    "print(f\"El numero mas pequeño fue {numeros[0]}, el mas grande fue {numeros[-1]} y el promedio fue {sum(numeros)/n}\")"
   ]
  },
  {
   "cell_type": "code",
   "execution_count": 84,
   "metadata": {},
   "outputs": [
    {
     "name": "stdout",
     "output_type": "stream",
     "text": [
      "Ingrese un numero A= 2\n",
      "Ingrese otro numero B= 7\n",
      "2 ^ 7 =  128\n"
     ]
    }
   ],
   "source": [
    "#26. Dado dos números A y B enteros mayores a cero, hallar A^B por sumas. Desplegar los\n",
    "#    números y el resultado.\n",
    "num1=int(input(\"Ingrese un numero A= \"))\n",
    "num2=int(input(\"Ingrese otro numero B= \"))\n",
    "suma=1\n",
    "c=0\n",
    "print(f\"{num1} ^ {num2} = \",end=\" \")\n",
    "while c<num2:\n",
    "    suma=suma*num1\n",
    "    c=c+1\n",
    "print(suma)"
   ]
  },
  {
   "cell_type": "code",
   "execution_count": 19,
   "metadata": {},
   "outputs": [
    {
     "name": "stdout",
     "output_type": "stream",
     "text": [
      "Ingrese el numero de terminos que quiere para calcular pi: 10000\n",
      "3.1414355936\n"
     ]
    }
   ],
   "source": [
    "#27. La constante pi (3.1441592...) es muy utilizada en matemáticas. Un método sencillo\n",
    "#    de calcular su valor es:\n",
    "#    Escribir un programa que efectúe este cálculo con un número de términos\n",
    "#    especificando por el usuario.\n",
    "terminos=int(input(\"Ingrese el numero de terminos que quiere para calcular pi: \"))\n",
    "pi=2.0\n",
    "for n in range(1,terminos+1):\n",
    "    if(n%2==0):  \n",
    "        pi  =  pi * n/(n+1)\n",
    "    elif(n%2==1): \n",
    "        pi  =  pi * (n+1)/n\n",
    "print(round(pi,10))"
   ]
  },
  {
   "cell_type": "code",
   "execution_count": 117,
   "metadata": {},
   "outputs": [
    {
     "name": "stdout",
     "output_type": "stream",
     "text": [
      "Ingrese x para calcular e^x: 8\n",
      "e^8 = 2980.96 "
     ]
    }
   ],
   "source": [
    "#28. El valor de e^x se puede aproximar por la suma\n",
    "#    Escribir un programa que tome un valor de x como entrada y visualice la suma para\n",
    "#    cada uno de los valores de 1 a 100.\n",
    "import math\n",
    "equis=int(input(\"Ingrese x para calcular e^x: \"))\n",
    "print(f\"e^{equis} = \",end=\"\")\n",
    "suma=1+equis\n",
    "for x in range(2,100):\n",
    "    suma=suma+(equis**x/math.factorial(x))\n",
    "print(round(suma,2),end=\" \")"
   ]
  },
  {
   "cell_type": "code",
   "execution_count": 23,
   "metadata": {},
   "outputs": [
    {
     "name": "stdout",
     "output_type": "stream",
     "text": [
      "Ingrese la cantidad de elementos de un vector 6\n",
      "Ingrese el elemento 1: 3\n",
      "Ingrese el elemento 2: 4\n",
      "Ingrese el elemento 3: 3\n",
      "Ingrese el elemento 4: 1\n",
      "Ingrese el elemento 5: 4\n",
      "Ingrese el elemento 6: 5\n",
      "La suma de los elementos es 20\n",
      "El promedio de los elementos es 3.3333333333333335\n"
     ]
    }
   ],
   "source": [
    "#29. Calcular la suma de todos los elementos de un vector, así como la media aritmética.\n",
    "elementos=int(input(\"Ingrese la cantidad de elementos de un vector \"))\n",
    "lista=[]\n",
    "for x in range(0,elementos):\n",
    "    elemento=int(input(f\"Ingrese el elemento {x+1}: \"))\n",
    "    lista.append(elemento)\n",
    "print(f\"La suma de los elementos es {sum(lista)}\")\n",
    "print(f\"El promedio de los elementos es {sum(lista)/len(lista)}\")"
   ]
  },
  {
   "cell_type": "code",
   "execution_count": 24,
   "metadata": {},
   "outputs": [
    {
     "name": "stdout",
     "output_type": "stream",
     "text": [
      "Ingrese el numero de filas de la primera matriz: 3\n",
      "Ingrese el numero de columnas de la primera matriz: 2\n",
      "Ingrese el numero de columnas de la segunda matriz: 2\n",
      "a: [0, 0]\n",
      "a: [0, 0]\n",
      "a: [0, 0]\n",
      "b: [0, 0]\n",
      "b: [0, 0]\n",
      "Introduzca el numero (0,0) de la primera matriz: 1\n",
      "Introduzca el numero (0,1) de la primera matriz: 1\n",
      "Introduzca el numero (1,0) de la primera matriz: 1\n",
      "Introduzca el numero (1,1) de la primera matriz: 1\n",
      "Introduzca el numero (2,0) de la primera matriz: 1\n",
      "Introduzca el numero (2,1) de la primera matriz: 1\n",
      "a: [1, 1]\n",
      "a: [1, 1]\n",
      "a: [1, 1]\n",
      "Introduzca el numero (0,0) de la segunda matriz: 2\n",
      "Introduzca el numero (0,1) de la segunda matriz: \n"
     ]
    },
    {
     "ename": "ValueError",
     "evalue": "invalid literal for int() with base 10: ''",
     "output_type": "error",
     "traceback": [
      "\u001b[0;31m---------------------------------------------------------------------------\u001b[0m",
      "\u001b[0;31mValueError\u001b[0m                                Traceback (most recent call last)",
      "\u001b[0;32m<ipython-input-24-a1f27352bc6b>\u001b[0m in \u001b[0;36m<module>\u001b[0;34m\u001b[0m\n\u001b[1;32m     22\u001b[0m \u001b[0;32mfor\u001b[0m \u001b[0mi\u001b[0m \u001b[0;32min\u001b[0m \u001b[0mrange\u001b[0m\u001b[0;34m(\u001b[0m\u001b[0mcolumMat1\u001b[0m\u001b[0;34m)\u001b[0m\u001b[0;34m:\u001b[0m\u001b[0;34m\u001b[0m\u001b[0;34m\u001b[0m\u001b[0m\n\u001b[1;32m     23\u001b[0m     \u001b[0;32mfor\u001b[0m \u001b[0mj\u001b[0m \u001b[0;32min\u001b[0m \u001b[0mrange\u001b[0m\u001b[0;34m(\u001b[0m\u001b[0mcolumMat2\u001b[0m\u001b[0;34m)\u001b[0m\u001b[0;34m:\u001b[0m\u001b[0;34m\u001b[0m\u001b[0;34m\u001b[0m\u001b[0m\n\u001b[0;32m---> 24\u001b[0;31m         \u001b[0mb\u001b[0m\u001b[0;34m[\u001b[0m\u001b[0mi\u001b[0m\u001b[0;34m]\u001b[0m\u001b[0;34m[\u001b[0m\u001b[0mj\u001b[0m\u001b[0;34m]\u001b[0m\u001b[0;34m=\u001b[0m\u001b[0mint\u001b[0m\u001b[0;34m(\u001b[0m\u001b[0minput\u001b[0m\u001b[0;34m(\u001b[0m\u001b[0;34m\"Introduzca el numero (%d,%d) de la segunda matriz: \"\u001b[0m \u001b[0;34m%\u001b[0m\u001b[0;34m(\u001b[0m\u001b[0mi\u001b[0m\u001b[0;34m,\u001b[0m\u001b[0mj\u001b[0m\u001b[0;34m)\u001b[0m\u001b[0;34m)\u001b[0m\u001b[0;34m)\u001b[0m\u001b[0;34m\u001b[0m\u001b[0;34m\u001b[0m\u001b[0m\n\u001b[0m\u001b[1;32m     25\u001b[0m \u001b[0;32mfor\u001b[0m \u001b[0mi\u001b[0m \u001b[0;32min\u001b[0m \u001b[0mrange\u001b[0m\u001b[0;34m(\u001b[0m\u001b[0mcolumMat1\u001b[0m\u001b[0;34m)\u001b[0m\u001b[0;34m:\u001b[0m\u001b[0;34m\u001b[0m\u001b[0;34m\u001b[0m\u001b[0m\n\u001b[1;32m     26\u001b[0m     \u001b[0mprint\u001b[0m\u001b[0;34m(\u001b[0m\u001b[0;34m\"b:\"\u001b[0m\u001b[0;34m,\u001b[0m\u001b[0mb\u001b[0m\u001b[0;34m[\u001b[0m\u001b[0mi\u001b[0m\u001b[0;34m]\u001b[0m\u001b[0;34m)\u001b[0m\u001b[0;34m\u001b[0m\u001b[0;34m\u001b[0m\u001b[0m\n",
      "\u001b[0;31mValueError\u001b[0m: invalid literal for int() with base 10: ''"
     ]
    }
   ],
   "source": [
    "#30. Multiplicar dos matrices.\n",
    "filasMat1=int(input(\"Ingrese el numero de filas de la primera matriz: \"))\n",
    "columMat1=int(input(\"Ingrese el numero de columnas de la primera matriz: \"))\n",
    "columMat2=int(input(\"Ingrese el numero de columnas de la segunda matriz: \"))\n",
    "\n",
    "a=[]\n",
    "for i in range(filasMat1):\n",
    "    a.append([0]*columMat1)\n",
    "for i in range(filasMat1):\n",
    "    print(\"a:\",a[i])\n",
    "b=[]\n",
    "for i in range(columMat1):\n",
    "    b.append([0]*columMat2)\n",
    "for i in range(columMat1):\n",
    "    print(\"b:\",b[i])\n",
    "for i in range(filasMat1):\n",
    "    for j in range(columMat1):\n",
    "        a[i][j]=int(input(\"Introduzca el numero (%d,%d) de la primera matriz: \" %(i,j)))\n",
    "for i in range(filasMat1):\n",
    "    print(\"a:\",a[i])\n",
    "    \n",
    "for i in range(columMat1):\n",
    "    for j in range(columMat2):\n",
    "        b[i][j]=int(input(\"Introduzca el numero (%d,%d) de la segunda matriz: \" %(i,j)))\n",
    "for i in range(columMat1):\n",
    "    print(\"b:\",b[i])\n",
    "    \n",
    "c=[]\n",
    "for i in range(filasMat1):\n",
    "    c.append([0]*columMat2)\n",
    "#Multiplicacion\n",
    "for i in range(filasMat1):\n",
    "    for j in range(columMat2):\n",
    "        for k in range(columMat1):\n",
    "            c[i][j] += a[i][k]*b[k][j] \n",
    "for i in range(filasMat1):\n",
    "    res=[]\n",
    "    for j in range(columMat2):\n",
    "        res.append(c[i][j])\n",
    "\n",
    "    print(\"El resultado de la multiplicacion es de A y B es:\",res)"
   ]
  },
  {
   "cell_type": "markdown",
   "metadata": {},
   "source": []
  }
 ],
 "metadata": {
  "kernelspec": {
   "display_name": "Python 3",
   "language": "python",
   "name": "python3"
  },
  "language_info": {
   "codemirror_mode": {
    "name": "ipython",
    "version": 3
   },
   "file_extension": ".py",
   "mimetype": "text/x-python",
   "name": "python",
   "nbconvert_exporter": "python",
   "pygments_lexer": "ipython3",
   "version": "3.7.4"
  }
 },
 "nbformat": 4,
 "nbformat_minor": 2
}
