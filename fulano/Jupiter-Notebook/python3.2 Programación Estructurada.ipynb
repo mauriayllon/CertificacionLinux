{
 "cells": [
  {
   "cell_type": "markdown",
   "metadata": {},
   "source": [
    "<img src=cenapad.jpg align=left><BR><BR><BR><BR><BR><BR>\n",
    "<h1>Curso Introducción al Lenguaje Python<br>Programación Estructurada</h1>\n",
    "<img src=python-logo.png align=left>"
   ]
  },
  {
   "cell_type": "markdown",
   "metadata": {},
   "source": [
    "# 2.1 Primeros pasos hacia la programación¶"
   ]
  },
  {
   "cell_type": "markdown",
   "metadata": {},
   "source": [
    "Por supuesto, podemos usar Python para tareas más complicadas que sumar dos y dos. Por ejemplo, podemos escribir una subsecuencia inicial de la serie de Fibonacci así:"
   ]
  },
  {
   "cell_type": "code",
   "execution_count": null,
   "metadata": {},
   "outputs": [],
   "source": [
    "# Series de Fibonacci:\n",
    "# la suma de dos elementos define el siguiente\n",
    "a, b = 0, 1\n",
    "while b < 10:\n",
    "    print(b)\n",
    "    a, b = b, a+b"
   ]
  },
  {
   "cell_type": "code",
   "execution_count": null,
   "metadata": {},
   "outputs": [],
   "source": [
    "lista=[]\n",
    "a, b = 0, 1\n",
    "\n",
    "while b < 10:\n",
    "    lista.append(b)\n",
    "    a, b = b, a+b\n",
    "    \n",
    "print(lista)"
   ]
  },
  {
   "cell_type": "markdown",
   "metadata": {},
   "source": [
    "Este ejemplo introduce varias características nuevas.\n",
    "<ul>\n",
    "<li>La primer línea contiene una asignación múltiple: las variables a y b toman en forma simultanea los nuevos valores 0 y 1. En la última linea esto se vuelve a usar, demostrando que las expresiones a la derecha son evaluadas antes de que suceda cualquier asignación. Las expresiones a la derecha son evaluadas de izquierda a derecha.</li><br>\n",
    "\n",
    "<li>El bucle while se ejecuta mientras la condición (aquí: b < 10) sea verdadera. En Python, como en C, cualquier entero distinto de cero es verdadero; cero es falso. La condición también puede ser una cadena de texto o una lista, de hecho cualquier secuencia; cualquier cosa con longitud distinta de cero es verdadero, las secuencias vacías son falsas. La prueba usada en el ejemplo es una comparación simple.</li><br>\n",
    "\n",
    "<li>El cuerpo del bucle tiene sangría: Python utiliza 4 espacios para diferencias que se encuentra en un bucle o función. El interpretador permite la utilziación de 4 espacios o tabulación (tab) pero no mezclar ambos tipos, pues puede generar errores en la interpretación.</li><br>\n",
    "\n",
    "<li>La función print() escribe el valor de el o los argumentos que se le pasan. Difiere de simplemente escribir la expresión que se quiere mostrar en la forma en que maneja múltiples argumentos, cantidades en punto flotante, y cadenas. Las cadenas de texto son impresas sin comillas, y un espacio en blanco es insertado entre los elementos, así puedes formatear cosas de una forma agradable:</li>\n",
    "\n",
    "</ul>"
   ]
  },
  {
   "cell_type": "code",
   "execution_count": null,
   "metadata": {},
   "outputs": [],
   "source": [
    "i = 256 * 256\n",
    "print('El valor de i es', i)"
   ]
  },
  {
   "cell_type": "markdown",
   "metadata": {},
   "source": [
    "El parámetro nombrado end puede usarse para evitar el salto de linea al final de la salida, o terminar la salida con una cadena diferente:"
   ]
  },
  {
   "cell_type": "code",
   "execution_count": null,
   "metadata": {},
   "outputs": [],
   "source": [
    "lista = []\n",
    "a, b = 0, 1\n",
    "while b < 1000:\n",
    "    print(b, end=', ')\n",
    "    lista.append(b)\n",
    "    a, b = b, a+b"
   ]
  },
  {
   "cell_type": "code",
   "execution_count": null,
   "metadata": {},
   "outputs": [],
   "source": [
    "for elemento in lista:\n",
    "    print(elemento, end=\", \")"
   ]
  },
  {
   "cell_type": "markdown",
   "metadata": {},
   "source": [
    "Otros ejemplos de la utilización de <b>print</b>."
   ]
  },
  {
   "cell_type": "code",
   "execution_count": null,
   "metadata": {},
   "outputs": [],
   "source": [
    "print('Mercury', 'Venus', 'Earth', sep=', ')\n",
    "print('Mars', 'Jupiter', 'Saturn', sep=', ')\n",
    "print('Uranus', 'Neptune', 'Pluto', sep=', ')"
   ]
  },
  {
   "cell_type": "code",
   "execution_count": null,
   "metadata": {},
   "outputs": [],
   "source": [
    "print('Mercury', 'Venus', 'Earth', sep=', ', end='\\t\\t')\n",
    "print('Mars', 'Jupiter', 'Saturn', sep=', ', end='\\t\\t')\n",
    "print('Uranus', 'Neptune', 'Pluto', sep=', ')"
   ]
  },
  {
   "cell_type": "code",
   "execution_count": null,
   "metadata": {},
   "outputs": [],
   "source": [
    "print('Mercury', 'Venus', 'Earth', sep=', ')\n",
    "print('Mars', 'Jupiter', 'Saturn', sep=', ')\n",
    "print('Uranus', 'Neptune', 'Pluto', sep=', ')"
   ]
  },
  {
   "cell_type": "code",
   "execution_count": null,
   "metadata": {},
   "outputs": [],
   "source": [
    "print('Printing in a Nutshell', end='\\n * ')\n",
    "print('Calling Print', end='\\n * ')\n",
    "print('Separating Multiple Arguments', end='\\n * ')\n",
    "print('Preventing Line Breaks')"
   ]
  },
  {
   "cell_type": "markdown",
   "metadata": {},
   "source": [
    "Para más información sobre print visitar: https://realpython.com/python-print/"
   ]
  },
  {
   "cell_type": "markdown",
   "metadata": {},
   "source": [
    "# 2.2. Condicionales: if, elif y else"
   ]
  },
  {
   "cell_type": "markdown",
   "metadata": {},
   "source": [
    "La declaración if/elif/else funciona para controlar el fluxo de ejecución basandose en una o más condiciones. La sintaxis es la siguiente:"
   ]
  },
  {
   "cell_type": "code",
   "execution_count": null,
   "metadata": {},
   "outputs": [],
   "source": [
    "#No ejecute está célula\n",
    "if condicion:\n",
    "    comando1\n",
    "    comando2\n",
    "    ...\n",
    "    comandoN\n",
    "elif condicion:\n",
    "    comando1\n",
    "    comando2\n",
    "    ...\n",
    "    comandoN\n",
    "else:\n",
    "    comando1\n",
    "    comando2\n",
    "    ...\n",
    "    comandoN"
   ]
  },
  {
   "cell_type": "markdown",
   "metadata": {},
   "source": [
    "Observa la <b>IDENTACIÓN</b> que define los bloques de código, a diferencia de otros lenguajes que usan delimitadores como llaves tales como \"{\" y \"}\" o bloques con \"begin\" y \"end\".<br>\n",
    "\n",
    "Una buena práctica es usar <b>IDENTATION</b> con 4 espacios (primer nivel), 8 espacios (segundo nivel), etc.<br>\n",
    "\n",
    "<b>NO SE DEBÉN USAR TABULACIONES</b> (debido a las convenciones de portabilidad y legibilidad), aunque están permitidas.<br>\n",
    "\n",
    "<b>NUNCA se debe mezclar espacios con tabulaciones en el mismo programa.</b><br>\n",
    "\n",
    "IDENTATION en Python es obligatorio y forma parte de la sintaxis. La ventaja de esta característica es la legibilidad del código. La mayoría de los editores de código o IDE de desarrollo facilitarán el trabajo de IDENTACIÓN colocando espacios automáticamente si se encuentra dentro del contexto de un bloque de código."
   ]
  },
  {
   "cell_type": "markdown",
   "metadata": {},
   "source": [
    "#### Ejemplo de uso del condicional if elif else:"
   ]
  },
  {
   "cell_type": "code",
   "execution_count": null,
   "metadata": {},
   "outputs": [],
   "source": [
    "nombre = input(\"¿Cual es su nombre?:\")\n",
    "edad = int(input(\"¿Cual es su edad?:\")) #Ingrese un número entero\n",
    "grupo=\"\"\n",
    "\n",
    "if edad <= 12:\n",
    "    grupo = \"Infancia\"\n",
    "elif edad <= 18:\n",
    "    grupo = \"Adolescencia\"\n",
    "elif edad <= 26:\n",
    "    grupo = \"Juventud\"\n",
    "elif edad <= 65:\n",
    "    grupo = \"Adultez\"\n",
    "else:\n",
    "    grupo = \"Persona Mayor\"\n",
    "\n",
    "print(f\"Nombre: {nombre} - Edad: {edad} - Pertenece al grupo {grupo}.\")"
   ]
  },
  {
   "cell_type": "markdown",
   "metadata": {},
   "source": [
    "La palabra reservada ‘elif‘ es una abreviación de ‘else if’, y es útil para evitar un sangrado excesivo. Una secuencia if ... elif ... elif ... sustituye las sentencias switch o case encontradas en otros lenguajes.\n",
    "\n",
    "La declaración if/elif/else puede precisa tener  tener ninguún bloque elif, por ejemplo:"
   ]
  },
  {
   "cell_type": "code",
   "execution_count": null,
   "metadata": {},
   "outputs": [],
   "source": [
    "edad=21\n",
    "if edad<=17:\n",
    "    print(\"Menor de edad\")\n",
    "else:\n",
    "    print(\"Mayor de edad\")"
   ]
  },
  {
   "cell_type": "markdown",
   "metadata": {},
   "source": [
    "Es posible combinar condiones con otros operadores <b>and</b>, <b>not</b> y <b>or</b>."
   ]
  },
  {
   "cell_type": "code",
   "execution_count": null,
   "metadata": {},
   "outputs": [],
   "source": [
    "edad = 31\n",
    "if edad <= 12:\n",
    "    print(\"Infancia\")\n",
    "elif edad > 12 and edad < 21:\n",
    "    print(\"Adolescente\")\n",
    "elif edad>=21:\n",
    "    print(\"Adulto\")"
   ]
  },
  {
   "cell_type": "code",
   "execution_count": null,
   "metadata": {},
   "outputs": [],
   "source": [
    "x = int(input(\"Ingrese un número entero: \"))\n",
    "y = int(input(\"Ingrese otro número entero: \"))\n",
    "if x%2==1 and y%2==1:\n",
    "    print(\"Ambos números son impares\")\n",
    "else:\n",
    "    print(\"Por lo menos uno de los números es par\")"
   ]
  },
  {
   "cell_type": "code",
   "execution_count": null,
   "metadata": {},
   "outputs": [],
   "source": [
    "x = int(input(\"Ingrese un número entero: \"))\n",
    "y = int(input(\"Ingrese otro número entero: \"))\n",
    "if x%2==1 or y%2==1:\n",
    "    print(\"Por lo menos uno delos números es impar\")\n",
    "else:\n",
    "    print(\"Ambos números son pares\")"
   ]
  },
  {
   "cell_type": "code",
   "execution_count": null,
   "metadata": {},
   "outputs": [],
   "source": [
    "num = list(range(1,30))\n",
    "for n in num:\n",
    "    if n%3==0:\n",
    "        print(f\"{n} es divisible por 3\")"
   ]
  },
  {
   "cell_type": "markdown",
   "metadata": {},
   "source": [
    "Alternativamente, en lugar de imprimir en la pantalla, podemos crear una lista con los números divisibles por 3 y luego imprimirla"
   ]
  },
  {
   "cell_type": "code",
   "execution_count": null,
   "metadata": {},
   "outputs": [],
   "source": [
    "num = list(range(1,30))\n",
    "num_div3=[] #Iniciando una lista vacia (Esto es necesario para que podemos usar el método append)\n",
    "for n in num:\n",
    "    if n%3==0:\n",
    "        num_div3.append(n)\n",
    "print(num_div3)"
   ]
  },
  {
   "cell_type": "markdown",
   "metadata": {},
   "source": [
    "### Ejercicio 1:\n",
    "\n",
    "Dado tres puntos en el plano expresados como coordenadas (x, y) informar cuál es el que se encuentra más lejos del centro de coordenadas."
   ]
  },
  {
   "cell_type": "code",
   "execution_count": 628,
   "metadata": {},
   "outputs": [
    {
     "name": "stdout",
     "output_type": "stream",
     "text": [
      "Punto 3 es el mas alejado\n"
     ]
    }
   ],
   "source": [
    "# Escriba el código aqui\n",
    "import math\n",
    "#COORDENADA PUNTO1\n",
    "x1, y1 = -4, 1\n",
    "#COORDENADA PUNTO2\n",
    "x2, y2 = 2, -4\n",
    "#COORDENADA PUNTO3\n",
    "x3, y3 = 3, 4\n",
    "coord1= math.sqrt(x1**2+y1**2)\n",
    "coord2= math.sqrt(x2**2+y1**2)\n",
    "coord3= math.sqrt(x3**2+y3**2)\n",
    "coords=[coord1,coord2,coord3]\n",
    "coords.sort\n",
    "if(max(coords)==coord1):\n",
    "    print(\"Punto 1 es el mas alejado\")\n",
    "elif(max(coords)==coord2):\n",
    "    print(\"Punto 2 es el mas alejado\")\n",
    "elif(max(coords)==coord3):\n",
    "    print(\"Punto 3 es el mas alejado\")"
   ]
  },
  {
   "cell_type": "markdown",
   "metadata": {},
   "source": [
    "### Ejercicio 2:\n",
    "\n",
    "Escribir un programa que almacene la cadena de caracteres contraseña en una variable, pregunte al usuario por la contraseña e imprima por pantalla si la contraseña introducida por el usuario coincide con la guardada en la variable sin tener en cuenta mayúsculas y minúsculas.\n",
    "\n",
    "Sugerencia: utilizar la función lower.\n",
    "\n",
    "<b>Salida deseada:</b><br>\n",
    "La contaseña coincide<br>\n",
    "<br>\n",
    "La contraseña no coincide"
   ]
  },
  {
   "cell_type": "code",
   "execution_count": 34,
   "metadata": {},
   "outputs": [
    {
     "name": "stdout",
     "output_type": "stream",
     "text": [
      "Contraseña? dadsa\n",
      "La contraseña no coincide\n"
     ]
    }
   ],
   "source": [
    "# Escriba el código aqui\n",
    "var = \"contrasena\"\n",
    "var3 = input(\"Contraseña? \")\n",
    "var4 = var3.lower()\n",
    "if(var==var4):\n",
    "    print(\"La contraseña coincida\")\n",
    "else:\n",
    "    print(\"La contraseña no coincide\")"
   ]
  },
  {
   "cell_type": "markdown",
   "metadata": {},
   "source": [
    "### Ejercicio 3:\n",
    "\n",
    "Para tributar un determinado impuesto se debe ser mayor de 16 años y tener unos ingresos iguales o superiores a 2000 Bs mensuales. Escribir un programa que pregunte al usuario su edad y sus ingresos mensuales y muestre por pantalla si el usuario tiene que tributar o no.\n",
    "\n",
    "<b>Salida deseada:</b><br>\n",
    "Tienes que tributar<br>\n",
    "<br>\n",
    "No tienes que tributar"
   ]
  },
  {
   "cell_type": "code",
   "execution_count": 67,
   "metadata": {},
   "outputs": [
    {
     "name": "stdout",
     "output_type": "stream",
     "text": [
      "Cual es su edad? 23\n",
      "Cuales son sus ingresos? 22\n",
      "No puedes tributar\n"
     ]
    }
   ],
   "source": [
    "# Escriba el código aqui\n",
    "edad = int(input(\"Cual es su edad? \"))\n",
    "ingresos = int(input(\"Cuales son sus ingresos? \"))\n",
    "if(edad<16 and ingresos<2000):\n",
    "    print(\"Puedes tributar\")\n",
    "else:\n",
    "    print(\"No puedes tributar\")"
   ]
  },
  {
   "cell_type": "markdown",
   "metadata": {},
   "source": [
    "### Ejercicio 4:\n",
    "\n",
    "Escriba un programa que pida dos números enteros y que calcule su división, escribiendo si la división es exacta o no. El programa debe tomar en cuenta que no se puede dividir por cero."
   ]
  },
  {
   "cell_type": "code",
   "execution_count": 49,
   "metadata": {},
   "outputs": [
    {
     "name": "stdout",
     "output_type": "stream",
     "text": [
      "Primer entero = 23\n",
      "Segundo entero = 23\n",
      "La division es exacta\n"
     ]
    }
   ],
   "source": [
    "# Escriba el código aqui\n",
    "entero1 = int(input(\"Primer entero = \"))\n",
    "entero2 = int(input(\"Segundo entero = \"))\n",
    "if(entero2==0):\n",
    "    print(\"Nos e puede dividir entre 0\")\n",
    "elif((entero1%entero2)==0):\n",
    "    print(\"La division es exacta\")\n",
    "else:\n",
    "    print(\"La division no es exacta\")"
   ]
  },
  {
   "cell_type": "markdown",
   "metadata": {},
   "source": [
    "### Ejercicio 5:\n",
    "\n",
    "Escriba un programa que pida año, mes y día y retorne cuantos días han pasado o faltan a la fecha actual."
   ]
  },
  {
   "cell_type": "code",
   "execution_count": 711,
   "metadata": {},
   "outputs": [
    {
     "name": "stdout",
     "output_type": "stream",
     "text": [
      "Que año es? 1999\n",
      "Que mes es? 7\n",
      "Que dia es? 17\n",
      "Pasaron -7434  dias desde la fecha ingresada\n"
     ]
    }
   ],
   "source": [
    "# Escriba el código aqui\n",
    "from datetime import date\n",
    "from datetime import datetime\n",
    "ano = int(input(\"Que año es? \"))\n",
    "mes = int(input(\"Que mes es? \"))\n",
    "dia= int(input(\"Que dia es? \"))\n",
    "#Día actual\n",
    "diaAct=int(format(now.day))\n",
    "mesAct=int(format(now.month))\n",
    "anoAct=int(format(now.year))\n",
    "#Fecha actual\n",
    "if(ano<anoAct):\n",
    "    print(\"Pasaron\",(ano-anoAct)*365+(mes)*30+(30-diaAct)+dia,\" dias desde la fecha ingresada\")\n",
    "elif(ano==anoAct and mes>mesAct):\n",
    "    print(\"Faltan\",(mes-mesAct)*30+((30-diaAct)+dia),\" dias para la fecha ingresada\")\n",
    "elif(ano==anoAct and mes<mesAct):\n",
    "    print(\"Faltan\",(mesAct+mes)*30+((30-diaAct)+dia),\" dias para la fecha ingresada\")"
   ]
  },
  {
   "cell_type": "markdown",
   "metadata": {},
   "source": [
    "### Ejercicio 6:\n",
    "\n",
    "Escriba un programa que pida dos números enteros y que escriba si el mayor es múltiplo del menor. El programa debe avisar cuando se escriba valores negativos o nulos."
   ]
  },
  {
   "cell_type": "code",
   "execution_count": 629,
   "metadata": {},
   "outputs": [
    {
     "name": "stdout",
     "output_type": "stream",
     "text": [
      "Primer entero 6\n",
      "Segundo entero 3\n",
      "El mayor no es multipo del menor\n"
     ]
    }
   ],
   "source": [
    "# Escriba el código aqui\n",
    "A = int(input(\"Primer entero \"))\n",
    "B = int(input(\"Segundo entero \"))\n",
    "enteros=[A,B]\n",
    "enteros.sort\n",
    "if(A<=0 or B<=0):\n",
    "    print(\"Valores no permitidos\")\n",
    "elif(enteros[-1]%enteros[0]==0):\n",
    "    print(\"El mayor es multiplo del menor\")\n",
    "else:\n",
    "    print(\"El mayor no es multipo del menor\")"
   ]
  },
  {
   "cell_type": "markdown",
   "metadata": {},
   "source": [
    "### Ejercicio 7:\n",
    "\n",
    "Escriba un programa que pida los coeficientes de una ecuación de segundo grado (a x² + b x + c = 0) y escriba la solución.\n",
    "\n",
    "Se recuerda que una ecuación de segundo grado puede no tener solución (solución con números complejos), tener una solución única, tener dos soluciones o que todos los números sean solución. Se recuerda que la fórmula de las soluciones cuando hay dos soluciones es x = (-b ± √(b2-4ac) ) / (2a)\n",
    "\n",
    "En caso de no tener solución, hacer uso de la números complejos de Python.\n",
    "\n",
    "Más información en:<br>\n",
    "[1] https://relopezbriega.github.io/blog/2015/10/12/numeros-complejos-con-python/<br>\n",
    "[2] https://pybonacci.org/2014/02/04/como-separar-parte-real-e-imaginaria-en-sympy/\n",
    "\n",
    "<b>Salida deseada</b><br>\n",
    "ECUACIÓN A X² + B X + C = 0<br>\n",
    "Escriba el valor del coeficiente a: 2<br>\n",
    "Escriba el valor del coeficiente b: -7<br>\n",
    "Escriba el valor del coeficiente c: 3<br>\n",
    "La ecuación tiene dos soluciones: 3.0 y 0.5"
   ]
  },
  {
   "cell_type": "code",
   "execution_count": 715,
   "metadata": {},
   "outputs": [
    {
     "name": "stdout",
     "output_type": "stream",
     "text": [
      "Coeficiente de A= 1\n",
      "Coeficiente de B= 1\n",
      "Coeficiente de C= 1\n",
      "La ecuacion tiene dos soluciones (-0.5+0.8660254037844386j)  y  (-0.5-0.8660254037844386j)\n"
     ]
    }
   ],
   "source": [
    "# Escriba el código aqui\n",
    "import math\n",
    "a = int(input(\"Coeficiente de A= \"))\n",
    "b = int(input(\"Coeficiente de B= \"))\n",
    "c = int(input(\"Coeficiente de C= \"))\n",
    "t=(b**2)-(4*a*c)\n",
    "if(t>=0):\n",
    "    sol = (-b + math.sqrt(t)) / (2*a)\n",
    "    sol1 = (-b - math.sqrt(t)) / (2*a)\n",
    "    if(sol==sol1):\n",
    "        print(\"La ecuacion tiene una unica solucion\",round(sol,2))\n",
    "    else:\n",
    "        print(\"La ecuacion tiene dos soluciones\",round(sol,2),\" y \",round(sol1,2))\n",
    "        \n",
    "else:\n",
    "    sol = complex(round(-b/(2*a),2),round((math.sqrt(abs(t))/(2*a)),2))\n",
    "    sol1= complex(round(-b/(2*a),2),round(-((math.sqrt(abs(t))/(2*a))),2))\n",
    "    print(\"La ecuacion tiene dos soluciones\",sol,\" y \",sol1)"
   ]
  },
  {
   "cell_type": "markdown",
   "metadata": {},
   "source": [
    "### Ejercicio 8:\n",
    "\n",
    "Escriba un programa que pregunte primero si se quiere calcular el área de un triángulo o la de un círculo. Si se contesta que se quiere calcular el área de un triángulo (escribiendo T o t), el programa tiene que pedir entonces la base y la altura y escribir el área. Si se contesta que se quiere calcular el área de un círculo (escribiendo C o c), el programa tiene que pedir entonces el radio y escribir el área.\n",
    "\n",
    "Se recuerda que el área de un triángulo es base por altura dividido por 2 y que el área de un círculo es Pi (aproximadamente 3,141592) por el radio al cuadrado. Utilizar 2 decimales para la salida.\n",
    "\n",
    "Nota: Utilice la libreria math para obtener la función pi.\n",
    "\n",
    "<b>Salida deseada:</b><br>\n",
    "CÁLCULO DE ÁREAS<br>\n",
    "Elija una figura geométrica:<br>\n",
    "a) Triángulo<br>\n",
    "b) Círculo<br>\n",
    "¿Qué figura quiere calcular (Escriba T o C)? T<br>\n",
    "Escriba la base: 3<br>\n",
    "Escriba la altura: 5.5<br>\n",
    "Un triángulo de base 3.0 y altura 5.0 tiene un área de 8.25<br>\n",
    "<br>\n",
    "CÁLCULO DE ÁREAS<br>\n",
    "Elija una figura geométrica:<br>\n",
    "a) Triángulo<br>\n",
    "b) Círculo<br>\n",
    "¿Qué figura quiere calcular (Escriba T o C)? C<br>\n",
    "Escriba el radio: 2<br>\n",
    "Un círculo de radio 2.0 tiene un área de 12.57<br>"
   ]
  },
  {
   "cell_type": "code",
   "execution_count": 366,
   "metadata": {},
   "outputs": [
    {
     "name": "stdout",
     "output_type": "stream",
     "text": [
      "Que figura quiere calcular (Escriba T o C)? C\n",
      "Escriba el radio 2\n",
      "Un círculo de radio 2.0  tiene un área  12.57\n"
     ]
    }
   ],
   "source": [
    "# Escriba el código aqui\n",
    "import math\n",
    "figura = input(\"Que figura quiere calcular (Escriba T o C)? \")\n",
    "if(figura.lower()==\"t\"):\n",
    "    base = float(input(\"Escriba la base \"))\n",
    "    altura = float(input(\"Escriba la altura \"))\n",
    "    area = float((base*altura)/2)\n",
    "    print(\"Un triángulo de base\", base,\" y altura \", altura,\" tiene un área \",round(area,2))\n",
    "elif(figura.lower()==\"c\"):\n",
    "    radio = float(input(\"Escriba el radio \"))\n",
    "    area2 = float(math.pi*radio**2)\n",
    "    print(\"Un círculo de radio\", radio,\" tiene un área \",round(area2,2))"
   ]
  },
  {
   "cell_type": "markdown",
   "metadata": {},
   "source": [
    "# 2.3. La Sentencia for\n",
    "\n",
    "La sentencia <b>for</b> en Python difiere un poco de lo que uno puede estar acostumbrado en lenguajes como C o Pascal. En lugar de siempre iterar sobre una progresión aritmética de números (como en Pascal) o darle al usuario la posibilidad de definir tanto el paso de la iteración como la condición de fin (como en C), la sentencia <b>for</b> de Python itera sobre los ítems de cualquier secuencia (una lista o una cadena de texto), en el orden que aparecen en la secuencia. Por ejemplo:"
   ]
  },
  {
   "cell_type": "code",
   "execution_count": 118,
   "metadata": {},
   "outputs": [
    {
     "name": "stdout",
     "output_type": "stream",
     "text": [
      "gato 4\n",
      "ventana 7\n",
      "defenestrado 12\n"
     ]
    }
   ],
   "source": [
    "# Midiendo cadenas de texto\n",
    "palabras = ['gato', 'ventana', 'defenestrado']\n",
    "for p in palabras:\n",
    "    print(p, len(p))"
   ]
  },
  {
   "cell_type": "markdown",
   "metadata": {},
   "source": [
    "Si necesitá modificar la secuencia sobre la que estás iterando mientras estás adentro del ciclo (por ejemplo para borrar algunos ítems), se recomienda que hagas primero una copia. Iterar sobre una secuencia no hace implícitamente una copia. La notación abajo es especialmente conveniente para esto:"
   ]
  },
  {
   "cell_type": "code",
   "execution_count": 119,
   "metadata": {},
   "outputs": [
    {
     "name": "stdout",
     "output_type": "stream",
     "text": [
      "['defenestrado', 'ventana', 'gato', 'ventana', 'defenestrado']\n"
     ]
    }
   ],
   "source": [
    "for p in palabras[:]:  # hace una copiade toda la lista\n",
    "    if len(p) > 6:\n",
    "        palabras.insert(0, p)\n",
    "print(palabras)"
   ]
  },
  {
   "cell_type": "markdown",
   "metadata": {},
   "source": [
    "Con for w in words:, el ejemplo intentaría crear una lista infinita, insertando defenestrado una y otra vez.<br>\n",
    "\n",
    "Un bucle <b>for</b> funciona como un iterador. Un <b>for</b> se utiliza para realizar acciones sobre elementos de una secuencia o cualquier elemento iterable, como cadenas, listas y otros objetos iterables que veremos más adelante.\n",
    "\n",
    "<b>Formato general para una declaración for</b>\n",
    "\n",
    "for item in object:<br>\n",
    "&nbsp;&nbsp;&nbsp;&nbsp;statements to do stuff\n",
    "\n",
    "También es común usar un rango como iterable en un <b>for</b>\n",
    "\n",
    "for i in range(0,10):<br>\n",
    "&nbsp;&nbsp;&nbsp;&nbsp;hace alguna cosa con i"
   ]
  },
  {
   "cell_type": "markdown",
   "metadata": {},
   "source": [
    "#### Ejemplo. El complemento de una secuencia de ADN se obtiene reemplazando todo As con Ts, Ts con As, Gs con Cs y Cs con Gs por Gs"
   ]
  },
  {
   "cell_type": "code",
   "execution_count": 120,
   "metadata": {},
   "outputs": [
    {
     "data": {
      "text/plain": [
       "'AGCAGGTGCGAGTAGCAGTAGCA'"
      ]
     },
     "execution_count": 120,
     "metadata": {},
     "output_type": "execute_result"
    }
   ],
   "source": [
    "dna = \"AGCAGGTGCGAGTAGCAGTAGCA\"\n",
    "dna"
   ]
  },
  {
   "cell_type": "code",
   "execution_count": 121,
   "metadata": {},
   "outputs": [
    {
     "name": "stdout",
     "output_type": "stream",
     "text": [
      "TCGTCCACGCTCATCGTCATCGT\n"
     ]
    }
   ],
   "source": [
    "#Transformar todas las A's en Ts, Ts en As, Gs en Cs y Cs en Gs\n",
    "complemento=\"\"  #Iniciando string vacia\n",
    "for x in dna:  #A cada iteración en este bucle, x será una letra del dna\n",
    "    if x==\"G\":  #Si x fuera G, concatena la string complemento con un C\n",
    "        complemento = complemento + \"C\"\n",
    "    elif x==\"C\": #Si x fuera C, concatena la string complemento con un T\n",
    "        complemento = complemento + \"G\"\n",
    "    elif x == \"A\":\n",
    "        complemento = complemento + \"T\"\n",
    "    elif x == \"T\":\n",
    "        complemento = complemento + \"A\"\n",
    "        \n",
    "print(complemento)"
   ]
  },
  {
   "cell_type": "markdown",
   "metadata": {},
   "source": [
    "<b>join</b> es un método de la clase string que concatena una cadena con las cadenas de una lista.<br><br>\n",
    "<b>reversed</b> devuelve una lista o cadena invertida.<br><br>\n",
    "Vamos a invertir una string y usar el método de join para formar una nueva cadena con el inverso complementario de la secuencia de DNA."
   ]
  },
  {
   "cell_type": "code",
   "execution_count": 125,
   "metadata": {},
   "outputs": [
    {
     "name": "stdout",
     "output_type": "stream",
     "text": [
      "DNA=AGCAGGTGCGAGTAGCAGTAGCA\n",
      "REVCOMP=TGCTACTGCTACTCGCACCTGCT\n",
      "TGCTACTGCTACTCGCACCTGCT\n"
     ]
    }
   ],
   "source": [
    "reverso_complementar = ''.join(reversed(complemento))#conatena la string vacia '' con el complemento invertido\n",
    "print(f\"DNA={dna}\\nREVCOMP={reverso_complementar}\")\n",
    "print(complemento[::-1])"
   ]
  },
  {
   "cell_type": "code",
   "execution_count": 126,
   "metadata": {},
   "outputs": [
    {
     "name": "stdout",
     "output_type": "stream",
     "text": [
      "Caracter de índice 0 é um A\n",
      "Caracter de índice 1 é um G\n",
      "Caracter de índice 2 é um C\n",
      "Caracter de índice 3 é um A\n",
      "Caracter de índice 4 é um G\n",
      "Caracter de índice 5 é um G\n",
      "Caracter de índice 6 é um T\n",
      "Caracter de índice 7 é um G\n",
      "Caracter de índice 8 é um C\n",
      "Caracter de índice 9 é um G\n",
      "Caracter de índice 10 é um A\n",
      "Caracter de índice 11 é um G\n",
      "Caracter de índice 12 é um T\n",
      "Caracter de índice 13 é um A\n",
      "Caracter de índice 14 é um G\n",
      "Caracter de índice 15 é um C\n",
      "Caracter de índice 16 é um A\n",
      "Caracter de índice 17 é um G\n",
      "Caracter de índice 18 é um T\n",
      "Caracter de índice 19 é um A\n",
      "Caracter de índice 20 é um G\n",
      "Caracter de índice 21 é um C\n",
      "Caracter de índice 22 é um A\n"
     ]
    }
   ],
   "source": [
    "for i in range(len(dna)):\n",
    "    print(f\"Caracter de índice {i} é um {dna[i]}\")"
   ]
  },
  {
   "cell_type": "code",
   "execution_count": 127,
   "metadata": {},
   "outputs": [
    {
     "name": "stdout",
     "output_type": "stream",
     "text": [
      "Caracter de índice 0 é um A\n",
      "Caracter de índice 1 é um G\n",
      "Caracter de índice 2 é um C\n",
      "Caracter de índice 3 é um A\n",
      "Caracter de índice 4 é um G\n",
      "Caracter de índice 5 é um G\n",
      "Caracter de índice 6 é um T\n",
      "Caracter de índice 7 é um G\n",
      "Caracter de índice 8 é um C\n",
      "Caracter de índice 9 é um G\n",
      "Caracter de índice 10 é um A\n",
      "Caracter de índice 11 é um G\n",
      "Caracter de índice 12 é um T\n",
      "Caracter de índice 13 é um A\n",
      "Caracter de índice 14 é um G\n",
      "Caracter de índice 15 é um C\n",
      "Caracter de índice 16 é um A\n",
      "Caracter de índice 17 é um G\n",
      "Caracter de índice 18 é um T\n",
      "Caracter de índice 19 é um A\n",
      "Caracter de índice 20 é um G\n",
      "Caracter de índice 21 é um C\n",
      "Caracter de índice 22 é um A\n"
     ]
    }
   ],
   "source": [
    "#El ciclo for anterior también se puede hacer usando la función enumerate\n",
    "for i,x in enumerate(dna):\n",
    "    print(f\"Caracter de índice {i} é um {x}\")"
   ]
  },
  {
   "cell_type": "markdown",
   "metadata": {},
   "source": [
    "### Ejercicio 9:\n",
    "\n",
    "Escriba un programa que pida un número de dados y muestre los valores de ese número de dados, al azar.\n",
    "\n",
    "Nota. Utilizar la libreria random.\n",
    "Más información en:\n",
    "[1] https://stackoverflow.com/questions/3996904/generate-random-integers-between-0-and-9\n",
    "\n",
    "<b>Salida deseada:</b><br><br>\n",
    "TIRADA DE DADOS<br>\n",
    "Número de dados: 0<br>\n",
    "¡Imposible!<br>\n",
    "<br>\n",
    "TIRADA DE DADOS<br>\n",
    "Número de dados:  5<br>\n",
    "Dados: 3 5 1 1 3<br>"
   ]
  },
  {
   "cell_type": "code",
   "execution_count": 334,
   "metadata": {},
   "outputs": [
    {
     "name": "stdout",
     "output_type": "stream",
     "text": [
      "Tirada de dados\n",
      "Numero de dados = 5\n",
      "Dados: 1 2 6 5 6 "
     ]
    }
   ],
   "source": [
    "# Escriba el código aqui\n",
    "import random\n",
    "print(\"Tirada de dados\")\n",
    "dados = int(input(\"Numero de dados = \"))\n",
    "if(dados==0):\n",
    "    print(\"Imporsible!\")\n",
    "else:\n",
    "    print(\"Dados:\",end=\" \")\n",
    "    for x in range(0,dados):\n",
    "        print(random.randint(1, 6), end=\" \")"
   ]
  },
  {
   "cell_type": "markdown",
   "metadata": {},
   "source": [
    "### Ejercicio 10:\n",
    "\n",
    "Escriba un programa que pida un número de jugadores y tire un dado para cada jugador. El jugador que tire el mayor dado ganará el juego.\n",
    "\n",
    "<b>Salida deseada:</b><br><br>\n",
    "TIRADAS DE DADO<br>\n",
    "Número de jugadores: 1<br>\n",
    "¡Imposible!<br>\n",
    "<br>\n",
    "TIRADAS DE DADO<br>\n",
    "Número de jugadores: 4<br>\n",
    "Jugador 1: 3<br>\n",
    "Jugador 2: 3<br>\n",
    "Jugador 3: 5<br>\n",
    "Jugador 4: 1<br>\n",
    "El ganador es el Jugador 3.<br>\n",
    "<br>\n",
    "TIRADAS DE DADO<br>\n",
    "Número de jugadores: 3<br>\n",
    "Jugador 1: 4<br>\n",
    "Jugador 2: 4<br>\n",
    "Jugador 3: 1<br>\n",
    "Los ganadores son el Jugador 1, Jugador 2."
   ]
  },
  {
   "cell_type": "code",
   "execution_count": 770,
   "metadata": {},
   "outputs": [
    {
     "name": "stdout",
     "output_type": "stream",
     "text": [
      "TIRADAS DE DADO\n",
      "Numero de jugadores: 19\n",
      "Jugador 1 :  5\n",
      "Jugador 2 :  5\n",
      "Jugador 3 :  4\n",
      "Jugador 4 :  5\n",
      "Jugador 5 :  3\n",
      "Jugador 6 :  3\n",
      "Jugador 7 :  2\n",
      "Jugador 8 :  2\n",
      "Jugador 9 :  1\n",
      "Jugador 10 :  4\n",
      "Jugador 11 :  6\n",
      "Jugador 12 :  5\n",
      "Jugador 13 :  5\n",
      "Jugador 14 :  3\n",
      "Jugador 15 :  3\n",
      "Jugador 16 :  5\n",
      "Jugador 17 :  1\n",
      "Jugador 18 :  3\n",
      "Jugador 19 :  6\n",
      "Los ganadores son el Jugador 11 , Jugador 19."
     ]
    }
   ],
   "source": [
    "# Escriba el código aqui\n",
    "import random\n",
    "equipo=[]\n",
    "print(\"TIRADAS DE DADO\")\n",
    "jugadores=int(input(\"Numero de jugadores: \"))\n",
    "if(jugadores<=1):\n",
    "    print(\"Imposible!\")\n",
    "else:\n",
    "    for x in range(0,jugadores):\n",
    "        equipo.append(random.randint(1, 6))\n",
    "        print(\"Jugador\",x+1,\": \",equipo[x])\n",
    "        mayor=max(equipo)\n",
    "        cantidad =equipo.count(mayor)\n",
    "    if(cantidad==1):\n",
    "        for i in range(0,len(equipo)):\n",
    "            if(cantidad==0):\n",
    "                break\n",
    "            elif(equipo[i]==mayor):\n",
    "                print(\"EL ganador es el Jugador\",i+1,\".\")\n",
    "                cantidad=cantidad-1\n",
    "    else:\n",
    "        print(\"Los ganadores son el\",end=\"\")\n",
    "        for j in range(0,len(equipo)):\n",
    "            if(cantidad==0):\n",
    "                break\n",
    "            elif(equipo[j]==mayor and cantidad==1):\n",
    "                print(\" Jugador\",j+1,end=\".\")\n",
    "            elif(equipo[j]==mayor):\n",
    "                print(\" Jugador\",j+1,\",\",end=\"\")\n",
    "                cantidad = cantidad - 1\n",
    "              "
   ]
  },
  {
   "cell_type": "markdown",
   "metadata": {},
   "source": [
    "### Ejercicio 11:\n",
    "\n",
    "Escriba un programa que pida un número de dados y tire esa cantidad de dados. El primer jugador obtiene un punto por cada dado par. El segundo jugador obtiene un punto por cada dado impar. El jugador que saque más puntos, gana.\n",
    "\n",
    "<b>Salida deseada:</b><br><br>\n",
    "PARES Y NONES<br>\n",
    "Número de dados: 0<br>\n",
    "¡Imposible!<br>\n",
    "<br>\n",
    "PARES Y NONES<br>\n",
    "Número de dados: 7<br>\n",
    "Dados: 4 5 2 3 2 1 6<br>\n",
    "Ha ganado el jugador de los pares.<br>\n",
    "<br>\n",
    "PARES Y NONES<br>\n",
    "Número de dados: 8<br>\n",
    "Dados: 1 4 1 3 5 6 6 2<br>\n",
    "Han empatado."
   ]
  },
  {
   "cell_type": "code",
   "execution_count": 764,
   "metadata": {},
   "outputs": [
    {
     "name": "stdout",
     "output_type": "stream",
     "text": [
      "TIRADAS DE DADO\n",
      "Numero de dados: 5\n",
      "Dados: 4 5 1 1 3 \n",
      "Ha ganado el jugador de los impares.\n"
     ]
    }
   ],
   "source": [
    "#Escriba el código aqui\n",
    "import random\n",
    "print(\"TIRADAS DE DADO\")\n",
    "aux=int(input(\"Numero de dados: \"))\n",
    "aux1=[]\n",
    "jugador1=0\n",
    "jugador2=0\n",
    "if(aux==0):\n",
    "    print(\"Imposible!\")\n",
    "else:\n",
    "    print(\"Dados:\",end=\" \")\n",
    "    for x in range(0,aux):\n",
    "        aux1.append(random.randint(1, 6))\n",
    "        print(aux1[x],end=\" \") \n",
    "    for n in range(0,aux):\n",
    "        if(aux1[n]%2==0):\n",
    "            jugador1=jugador1+1\n",
    "        else:\n",
    "            jugador2=jugador2+1\n",
    "if(jugador1>jugador2):\n",
    "    print(\"\\nHa ganado el jugador de los pares.\")\n",
    "elif(jugador2>jugador1):\n",
    "    print(\"\\nHa ganado el jugador de los impares.\")\n",
    "elif(jugador2==jugador1):\n",
    "    print(\"\\nHan empatado.\")"
   ]
  },
  {
   "cell_type": "markdown",
   "metadata": {},
   "source": [
    "###### Ejercicio 12:\n",
    "\n",
    "Escriba un programa que pida un número de dados y tire esa cantidad de dados. Si no salen dos dados iguales seguidos, el jugador gana. Si salen, pierde.\n",
    "\n",
    "<b>Salida deseada:</b><br><br>\n",
    "DADOS IGUALES<br>\n",
    "Número de dados: 1<br>\n",
    "¡Imposible!<br>\n",
    "<br>\n",
    "DADOS IGUALES<br>\n",
    "Número de dados: 6<br>\n",
    "Dados: 3 1 1 4 6 2<br>\n",
    "El jugador ha perdido.<br>\n",
    "<br>\n",
    "DADOS IGUALES<br>\n",
    "Número de dados: 4<br>\n",
    "Dados: 4 2 5 3<br>\n",
    "El jugador ha ganado.<br>"
   ]
  },
  {
   "cell_type": "code",
   "execution_count": 763,
   "metadata": {},
   "outputs": [
    {
     "name": "stdout",
     "output_type": "stream",
     "text": [
      "TIRADAS DE DADO\n",
      "Numero de dados: 4\n",
      "Dados: 2 4 2 3 \n",
      "El jugador ha ganado\n"
     ]
    }
   ],
   "source": [
    "# Escriba el código aqui\n",
    "import random\n",
    "print(\"TIRADAS DE DADO\")\n",
    "aux=int(input(\"Numero de dados: \"))\n",
    "valores=[1,2,3,4,5,6]\n",
    "aux1=[]\n",
    "r=0\n",
    "repetidos=False\n",
    "if(aux<=1):\n",
    "    print(\"Imposible!\")\n",
    "else:\n",
    "    print(\"Dados:\",end=\" \")\n",
    "    for x in range(0,aux):\n",
    "        aux1.append(random.randint(1, 6))\n",
    "        print(aux1[x],end=\" \") \n",
    "    for j in range(0,aux-1):\n",
    "        r=aux1[j];\n",
    "        if(r==(aux1[j+1])):\n",
    "            repetidos=True\n",
    "            break\n",
    "        if(j==aux and aux1[j]==r):\n",
    "            repetidos=True\n",
    "if(repetidos):\n",
    "    print(\"\\nEl jugador ha perdido\")\n",
    "else:\n",
    "    print(\"\\nEl jugador ha ganado\")"
   ]
  },
  {
   "cell_type": "markdown",
   "metadata": {},
   "source": [
    "#### Ejercicio 13:\n",
    "\n",
    "Escribir un programa que pregunte al usuario una cantidad a invertir, el interés anual y el número de años, y muestre por pantalla el capital obtenido en la inversión cada año que dura la inversión.\n",
    "\n",
    "<b>Salida deseada:</b><br><br>\n",
    "¿Cantidad a invertir?  1000<br>\n",
    "¿Interés porcentual anual?  10<br>\n",
    "¿Años? 5<br>\n",
    "Capital tras 1 años: 1100.00<br>\n",
    "Capital tras 2 años: 1210.00<br>\n",
    "Capital tras 3 años: 1331.00<br>\n",
    "Capital tras 4 años: 1464.10<br>\n",
    "Capital tras 5 años: 1610.51<br>"
   ]
  },
  {
   "cell_type": "code",
   "execution_count": 813,
   "metadata": {},
   "outputs": [
    {
     "name": "stdout",
     "output_type": "stream",
     "text": [
      "Cantidad a invertir? 1000000\n",
      "Interes porcentual anual? 15\n",
      "Años? 10\n",
      "Capital tras 1 años:  1150000.0\n",
      "Capital tras 2 años:  1322500.0\n",
      "Capital tras 3 años:  1520875.0\n",
      "Capital tras 4 años:  1749006.25\n",
      "Capital tras 5 años:  2011357.19\n",
      "Capital tras 6 años:  2313060.77\n",
      "Capital tras 7 años:  2660019.88\n",
      "Capital tras 8 años:  3059022.86\n",
      "Capital tras 9 años:  3517876.29\n",
      "Capital tras 10 años:  4045557.74\n"
     ]
    }
   ],
   "source": [
    "# Escriba el código aqui\n",
    "inversion=int(input(\"Cantidad a invertir? \"))\n",
    "interes=int(input(\"Interes porcentual anual? \"))\n",
    "anos=int(input(\"Años? \"))\n",
    "for n in range(0,anos):\n",
    "    inversion=inversion+inversion*(interes/100)\n",
    "    print(\"Capital tras\", n+1 ,\"años: \",round(inversion,2))"
   ]
  },
  {
   "cell_type": "markdown",
   "metadata": {},
   "source": [
    "# Ejercicio 14:\n",
    "\n",
    "Escribir un programa que pida al usuario un número entero y muestre por pantalla un triángulo rectángulo (\"* \") como el de más abajo, de altura el número introducido.\n",
    "\n",
    "<b>Salida deseada:</b><br><br>\n",
    "Introduce la altura del triángulo (entero positivo) 5<br>\n",
    "*<br>\n",
    "\\* *<br>\n",
    "\\* * *<br>\n",
    "\\* * * *<br>\n",
    "\\* * * * * "
   ]
  },
  {
   "cell_type": "code",
   "execution_count": 637,
   "metadata": {},
   "outputs": [
    {
     "name": "stdout",
     "output_type": "stream",
     "text": [
      "Introduce la altura del triángulo (entero positivo): 5\n",
      "*\n",
      "**\n",
      "***\n",
      "****\n",
      "*****\n"
     ]
    }
   ],
   "source": [
    "# Escriba el código aqui\n",
    "triangulos=int(input(\"Introduce la altura del triángulo (entero positivo): \"))\n",
    "for x in range(1,triangulos+1):\n",
    "    print(x*\"*\")"
   ]
  },
  {
   "cell_type": "markdown",
   "metadata": {},
   "source": [
    "### Ejercicio 15:\n",
    "\n",
    "Escribir un programa que pida al usuario un número entero y muestre por pantalla un triángulo rectángulo como el de más abajo.\n",
    "\n",
    "<b>Salida deseada:</b><br><br>\n",
    "Introduce la altura del triángulo (entero positivo):  9<br>\n",
    "\n",
    "1 <br>\n",
    "3 1 <br>\n",
    "5 3 1 <br>\n",
    "7 5 3 1 <br>\n",
    "9 7 5 3 1"
   ]
  },
  {
   "cell_type": "code",
   "execution_count": 2,
   "metadata": {},
   "outputs": [
    {
     "name": "stdout",
     "output_type": "stream",
     "text": [
      "Introduce la altura del triángulo (entero positivo)= 19\n",
      "1  \n",
      "3 1  \n",
      "5 3 1  \n",
      "7 5 3 1  \n",
      "9 7 5 3 1  \n",
      "11 9 7 5 3 1  \n",
      "13 11 9 7 5 3 1  \n",
      "15 13 11 9 7 5 3 1  \n",
      "17 15 13 11 9 7 5 3 1  \n",
      "19 17 15 13 11 9 7 5 3 1  \n"
     ]
    }
   ],
   "source": [
    "# Escriba el código aqui\n",
    "altura=int(input(\"Introduce la altura del triángulo (entero positivo)= \"))\n",
    "lista=list(range(1,altura+1,2))\n",
    "for i in (range(0,len(lista))):    \n",
    "    for l in range(i,-1,-1):\n",
    "            print(lista[l],end=\" \")\n",
    "    print(\" \")"
   ]
  },
  {
   "cell_type": "markdown",
   "metadata": {},
   "source": [
    "### Ejercicio 16:\n",
    "\n",
    "Escriba un programa que pida un número entero mayor que cero y que escriba sus divisores.\n",
    "\n",
    "<b>Salida deseada:</b><br><br>\n",
    "DIVISORES<br>\n",
    "Escriba un número mayor que cero: -5<br>\n",
    "¡Le he pedido un número entero mayor que cero!<br>\n",
    "<br>\n",
    "DIVISORES<br>\n",
    "Escriba un número entero mayor que cero: 200<br>\n",
    "Los divisores de 200 son 1 2 4 5 8 10 20 25 40 50 100 200"
   ]
  },
  {
   "cell_type": "code",
   "execution_count": 4,
   "metadata": {},
   "outputs": [
    {
     "name": "stdout",
     "output_type": "stream",
     "text": [
      "Escriba un número mayor que cero: 521\n",
      "Los divisores de 521 son 1 521 "
     ]
    }
   ],
   "source": [
    "###### Escriba el código aqui\n",
    "divisor=int(input(\"Escriba un número mayor que cero: \"))\n",
    "num=1\n",
    "if(divisor>0):\n",
    "    print(\"Los divisores de\",divisor,\"son \",end=\"\")\n",
    "    for x in range(1,(divisor+1//2)):\n",
    "        if(divisor%x==0):\n",
    "            print(x,end=\" \")\n",
    "    print(divisor,end=\" \")\n",
    "else:\n",
    "    print(\"¡Le he pedido un número entero mayor que cero!\")"
   ]
  },
  {
   "cell_type": "markdown",
   "metadata": {},
   "source": [
    "### Ejercicio 17:\n",
    "\n",
    "Escribir un programa que pida al usuario un número entero y muestre por pantalla un triángulo rectángulo como el de número de primos.\n",
    "\n",
    "<b>Salida deseada:</b><br><br>\n",
    "Introduce la altura del triángulo (entero positivo):  20<br>\n",
    "\n",
    "1 <br>\n",
    "3 1 <br>\n",
    "5 3 1 <br>\n",
    "7 5 3 1 <br>\n",
    "11 7 5 3 1 <br>\n",
    "13 11 7 5 3 1 <br>\n",
    "17 13 11 7 5 3 1 <br>\n",
    "19 17 13 11 7 5 3 1"
   ]
  },
  {
   "cell_type": "code",
   "execution_count": 5,
   "metadata": {},
   "outputs": [
    {
     "name": "stdout",
     "output_type": "stream",
     "text": [
      "Introduce la altura del triángulo (entero positivo): 25\n",
      " \n",
      "2  \n",
      "3 2  \n",
      "5 3 2  \n",
      "7 5 3 2  \n",
      "13 7 5 3 2  \n",
      "17 13 7 5 3 2  \n",
      "19 17 13 7 5 3 2  \n",
      "23 19 17 13 7 5 3 2 "
     ]
    }
   ],
   "source": [
    "# Escriba el código aqui\n",
    "primo=int(input(\"Introduce la altura del triángulo (entero positivo): \"))\n",
    "noprimos=list(range(1,primo+1))\n",
    "primos=[2,3,5,7]\n",
    "for x in range(11,len(noprimos)):\n",
    "    if(not noprimos[x]%2==0 and not noprimos[x]%3==0 and not noprimos[x]%5==0 and not noprimos[x]%7==0 and not noprimos[x]%11==0):\n",
    "        primos.append(noprimos[x])\n",
    "for i in (range(0,len(primos))):\n",
    "    print(\" \")\n",
    "    for l in range(i,-1,-1):\n",
    "            print(primos[l],end=\" \")"
   ]
  },
  {
   "cell_type": "markdown",
   "metadata": {},
   "source": [
    "### Ejercicio 18:\n",
    "\n",
    "Escriba un programa que pida dos números enteros y escriba la suma de todos los enteros desde el primer número hasta el segundo.\n",
    "\n",
    "<b>Salida deseada:</b><br><br>\n",
    "SUMA ENTRE VALORES<br>\n",
    "Escriba un número entero positivo: -5<br>\n",
    "¡Le he pedido un número entero positivo!<br>\n",
    "<br>\n",
    "SUMA ENTRE VALORES<br>\n",
    "Escriba un número entero positivo: 7<br>\n",
    "Escriba un número entero mayor que 7: 7<br>\n",
    "¡Le he pedido un número entero mayor que 7!<br>\n",
    "<br>\n",
    "SUMA ENTRE VALORES<br>\n",
    "Escriba un número entero positivo: 30<br>\n",
    "Escriba un número entero mayor que 30: 32<br>\n",
    "30 + 31 + 32 = 93<br>"
   ]
  },
  {
   "cell_type": "code",
   "execution_count": 8,
   "metadata": {},
   "outputs": [
    {
     "name": "stdout",
     "output_type": "stream",
     "text": [
      "SUMA ENTRE VALORES\n",
      "Escriba un número entero positivo: 20\n",
      "Escriba un número entero mayor que: 19\n",
      "¡Le he pedido un número entero mayor que  20 !\n",
      "19 = 0 "
     ]
    }
   ],
   "source": [
    "# Escriba el código aqui\n",
    "print(\"SUMA ENTRE VALORES\")\n",
    "num=0\n",
    "suma=int(input(\"Escriba un número entero positivo: \"))\n",
    "if(suma<0):\n",
    "    print(\"¡Le he pedido un número entero positivo!\")    \n",
    "suma2=int(input(\"Escriba un número entero mayor que: \"))\n",
    "if(suma2<suma):\n",
    "        print(\"¡Le he pedido un número entero mayor que \",suma,\"!\")\n",
    "if(suma>0):\n",
    "    for x in range(suma,suma2):\n",
    "        num=num+x\n",
    "        print(x,\"+\",end=\" \")\n",
    "        if(x==suma2-1):\n",
    "            num=suma2+num\n",
    "            break\n",
    "    print(suma2,\"=\",num,end=\" \")    "
   ]
  },
  {
   "cell_type": "markdown",
   "metadata": {},
   "source": [
    "### Ejercicio 19:\n",
    "\n",
    "Escriba un programa que pida un número entero mayor que cero y calcule su factorial.\n",
    "\n",
    "<b>Salida deseada:</b><br><br>\n",
    "FACTORIAL<br>\n",
    "Escriba un número entero mayor que cero: -5<br>\n",
    "¡Le he pedido un número entero mayor que cero!<br>\n",
    "<br>\n",
    "FACTORIAL<br>\n",
    "Escriba un número entero mayor que cero: 5<br>\n",
    "El factorial de 5 es 120<br>"
   ]
  },
  {
   "cell_type": "code",
   "execution_count": 10,
   "metadata": {},
   "outputs": [
    {
     "name": "stdout",
     "output_type": "stream",
     "text": [
      "Escriba un número entero mayor que cero: 1\n",
      "El factorial de  1  es  1\n"
     ]
    }
   ],
   "source": [
    "#Escriba el código aqui\n",
    "factorial=int(input(\"Escriba un número entero mayor que cero: \"))\n",
    "num=1\n",
    "if(factorial>0):\n",
    "    for x in range(1,factorial+1):\n",
    "        num=x*num\n",
    "    print(\"El factorial de \",factorial,\" es \", num)\n",
    "else:\n",
    "    print(\"¡Le he pedido un número entero mayor que cero!\")"
   ]
  },
  {
   "cell_type": "markdown",
   "metadata": {},
   "source": [
    "### Ejercicio 20:\n",
    "\n",
    "Escribir un programa que pida al usuario un número entero (del 1 al 10) y genere la matriz caracol.\n",
    "\n",
    "<b>Salida deseada:</b><br><br>\n",
    "\n",
    "Introduce un número (entero positivo):  3<br>\n",
    "\n",
    "1 2 3<br>\n",
    "8 9 4<br>\n",
    "7 6 5<br>"
   ]
  },
  {
   "cell_type": "code",
   "execution_count": 49,
   "metadata": {},
   "outputs": [
    {
     "name": "stdout",
     "output_type": "stream",
     "text": [
      "Introduce un número (entero positivo): 10\n",
      "[1, 2, 3, 4, 5, 6, 7, 8, 9, 10]\n",
      "[36, 37, 38, 39, 40, 41, 42, 43, 44, 11]\n",
      "[35, 64, 65, 66, 67, 68, 69, 70, 45, 12]\n",
      "[34, 63, 84, 85, 86, 87, 88, 71, 46, 13]\n",
      "[33, 62, 83, 96, 97, 98, 89, 72, 47, 14]\n",
      "[32, 61, 82, 95, 100, 99, 90, 73, 48, 15]\n",
      "[31, 60, 81, 94, 93, 92, 91, 74, 49, 16]\n",
      "[30, 59, 80, 79, 78, 77, 76, 75, 50, 17]\n",
      "[29, 58, 57, 56, 55, 54, 53, 52, 51, 18]\n",
      "[28, 27, 26, 25, 24, 23, 22, 21, 20, 19]\n"
     ]
    }
   ],
   "source": [
    "# Escriba el código aqui\n",
    "n = int(input(\"Introduce un número (entero positivo): \"))\n",
    "mat = []\n",
    "for i in range(n):\n",
    "    mat.append([])\n",
    "    for j in range(n):\n",
    "        mat[i].append(0) \n",
    "i = 0\n",
    "j = 0\n",
    "direccion = \"right\"\n",
    "for k in range(1,(n*n)+1):\n",
    "    mat[i][j] = k\n",
    "    if direccion == \"right\":\n",
    "        if j+1 < n and mat[i][j+1] == 0:\n",
    "            j += 1\n",
    "        else:\n",
    "            i += 1\n",
    "            direccion = \"down\"\n",
    "    elif direccion == \"down\":\n",
    "        if i+1 < n and mat[i+1][j] == 0:\n",
    "            i += 1\n",
    "        else:\n",
    "            j -= 1\n",
    "            direccion = \"left\"\n",
    "    elif direccion == \"left\":\n",
    "        if j-1 >= 0 and mat[i][j-1] == 0:\n",
    "            j -= 1\n",
    "        else:\n",
    "            i -= 1\n",
    "            direccion = \"up\"\n",
    "    elif direccion == \"up\":\n",
    "        if i-1 >= 0 and mat[i-1][j] == 0:\n",
    "            i -= 1\n",
    "        else:\n",
    "            j += 1\n",
    "            direccion = \"right\"    \n",
    "\n",
    "for j in range(n):\n",
    "    print(mat[j])"
   ]
  },
  {
   "cell_type": "markdown",
   "metadata": {},
   "source": [
    "# 2.4. La Sentencia while"
   ]
  },
  {
   "cell_type": "code",
   "execution_count": null,
   "metadata": {},
   "outputs": [],
   "source": [
    "### Una instrucción while prueba una condición inicial y comienza a ejecutar los comandos del bloque si la condición es verdadera. Mientras la condición permanezca verdadera, los comandos de bucle se ejecutan repetidamente.\n",
    "\n",
    "Sintaxis:\n",
    "\n",
    "mientras condición:\n",
    "\n",
    "     comandos\n",
    "\n",
    "#### Ejemplo de declaración while"
   ]
  },
  {
   "cell_type": "code",
   "execution_count": 468,
   "metadata": {},
   "outputs": [
    {
     "name": "stdout",
     "output_type": "stream",
     "text": [
      "1\n",
      "2\n",
      "3\n",
      "4\n",
      "5\n",
      "6\n",
      "7\n",
      "8\n",
      "9\n",
      "10\n"
     ]
    }
   ],
   "source": [
    "i=0\n",
    "while i < 10:\n",
    "    i+=1\n",
    "    print(i)"
   ]
  },
  {
   "cell_type": "code",
   "execution_count": 177,
   "metadata": {},
   "outputs": [],
   "source": [
    "# Iniciando con una lista vacia\n",
    "nombres = []\n",
    "\n",
    "# Defina una string llamada nuevo_nombre con cualquier valor diferente de \"salir\"\n",
    "nuevo_nombre = ''"
   ]
  },
  {
   "cell_type": "markdown",
   "metadata": {},
   "source": [
    "El ciclo while se ejecutará mientras el usuario ingrese nombres distintos a \"salir\", almacenando cada nombre ingresado en una lista."
   ]
  },
  {
   "cell_type": "code",
   "execution_count": 178,
   "metadata": {},
   "outputs": [
    {
     "name": "stdout",
     "output_type": "stream",
     "text": [
      "Ingrese un nombre o la palabra salir: Emilili\n",
      "Ingrese un nombre o la palabra salir: Mauricio\n",
      "Ingrese un nombre o la palabra salir: salir\n",
      "['Emilili', 'Mauricio']\n"
     ]
    }
   ],
   "source": [
    "while nuevo_nombre != 'salir':\n",
    "    # Pida que el usuario ingrese un nombre\n",
    "    nuevo_nombre = input(\"Ingrese un nombre o la palabra salir: \")\n",
    "    # Adiciona el nombre al final de la lista de nombres\n",
    "    nombres.append(nuevo_nombre)\n",
    "\n",
    "#Extraiga la palabra salir de la lista de names (\"salir\")\n",
    "ultima = nombres.pop()\n",
    "# Imprime la lista de nombres\n",
    "print(nombres)"
   ]
  },
  {
   "cell_type": "markdown",
   "metadata": {},
   "source": [
    "El control de bucles break, continue y pass permite:"
   ]
  },
  {
   "cell_type": "code",
   "execution_count": 280,
   "metadata": {},
   "outputs": [
    {
     "name": "stdout",
     "output_type": "stream",
     "text": [
      "Input > done\n",
      "Done!\n"
     ]
    }
   ],
   "source": [
    "while True:\n",
    "    line = input('Input > ')\n",
    "    if line == 'done':\n",
    "        break\n",
    "    print(line)\n",
    "print('Done!')"
   ]
  },
  {
   "cell_type": "code",
   "execution_count": 184,
   "metadata": {},
   "outputs": [
    {
     "name": "stdout",
     "output_type": "stream",
     "text": [
      "Input > done\n",
      "Done!\n"
     ]
    }
   ],
   "source": [
    "while True:\n",
    "    line = input('Input > ')\n",
    "    if line[0] == '#':\n",
    "        continue\n",
    "    if line == 'done':\n",
    "        break\n",
    "    print(line)\n",
    "print('Done!')"
   ]
  },
  {
   "cell_type": "markdown",
   "metadata": {},
   "source": [
    "Más información:<br>\n",
    "[1] https://www.pythonmania.net/es/2013/04/05/control-de-bucles-break-continue-y-pass/"
   ]
  },
  {
   "cell_type": "markdown",
   "metadata": {},
   "source": [
    "### Ejercicio 21:\n",
    "\n",
    "Escriba un programa que pida dos números enteros. El programa pedirá de nuevo el segundo número mientras no sea mayor que el primero. El programa terminará escribiendo los dos números.\n",
    "\n",
    "<b>Salida deseada:</b><br><br>\n",
    "NÚMERO MAYOR<br>\n",
    "Escriba un número: 6<br>\n",
    "Escriba un número mayor que 6: 6<br>\n",
    "6 no es mayor que 6. Inténtelo de nuevo: 1<br>\n",
    "1 no es mayor que 6. Inténtelo de nuevo: 8<br>\n",
    "<br>\n",
    "Los números que ha escrito son 6 y 8."
   ]
  },
  {
   "cell_type": "code",
   "execution_count": 187,
   "metadata": {},
   "outputs": [
    {
     "name": "stdout",
     "output_type": "stream",
     "text": [
      "NÚMEROS MAYOR\n",
      "Escriba un número: 9\n",
      "Escriba un número mayor que  9: 8\n",
      "9 no es mayor que 8.Intentelo de nuevo: 7\n",
      "9 no es mayor que 7.Intentelo de nuevo: 10\n",
      "Los números que ha escrito son 9 y 10\n"
     ]
    }
   ],
   "source": [
    "# Escriba el código aqui\n",
    "print(\"NÚMEROS MAYOR\")\n",
    "menor=int(input(\"Escriba un número: \"))\n",
    "mayor=int(input(f\"Escriba un número mayor que  {menor}: \"))\n",
    "while mayor <= menor:\n",
    "    mayor=int(input(f\"{menor} no es mayor que {mayor}.Intentelo de nuevo: \"))\n",
    "print(f\"Los números que ha escrito son {menor} y {mayor}\")"
   ]
  },
  {
   "cell_type": "markdown",
   "metadata": {},
   "source": [
    "### Ejercicio 22:\n",
    "\n",
    "Escriba un programa que pida números decimales mientras el usuario escriba número mayores que el anterior.\n",
    "\n",
    "\n",
    "<b>Salida deseada:</b><br><br>\n",
    "NÚMEROS MAYORES<br>\n",
    "Escriba un número: 7<br>\n",
    "Escriba un número mayor que 7.0: 1<br>\n",
    "1.0 no es mayor que 7.0.<br>\n",
    "<br>\n",
    "NÚMEROS MAYORES<br>\n",
    "Escriba un número: 9.3<br>\n",
    "Escriba un número mayor que 9.3: 9.3<br>\n",
    "9.3 no es mayor que 9.3.<br>\n",
    "<br>\n",
    "NÚMEROS MAYORES<br>\n",
    "Escriba un número: 4.5<br>\n",
    "Escriba un número mayor que 4.5: 5<br>\n",
    "Escriba otro número mayor que 5.0: 7.3<br>\n",
    "Escriba otro número mayor que 5.0: 2<br>\n",
    "2.0 no es mayor que 4.5."
   ]
  },
  {
   "cell_type": "code",
   "execution_count": 18,
   "metadata": {},
   "outputs": [
    {
     "name": "stdout",
     "output_type": "stream",
     "text": [
      "NÚMEROS MAYORES\n",
      "Escriba un número: 4\n",
      "Escriba un número mayor que  4.0: 5\n",
      "Escriba otro número mayor que  5.0: 6\n",
      "Escriba otro número mayor que  6.0: 7\n",
      "Escriba otro número mayor que  7.0: 2\n",
      "2.0 no es mayor que 7.0\n"
     ]
    }
   ],
   "source": [
    "# Escriba el código aqui\n",
    "print(\"NÚMEROS MAYORES\")\n",
    "menor=float(input(\"Escriba un número: \"))\n",
    "mayor=float(input(f\"Escriba un número mayor que  {menor}: \"))\n",
    "while mayor > menor:\n",
    "    menor=mayor\n",
    "    mayor=float(input(f\"Escriba otro número mayor que  {menor}: \"))\n",
    "print(f\"{mayor} no es mayor que {menor}\")    "
   ]
  },
  {
   "cell_type": "markdown",
   "metadata": {},
   "source": [
    "### Ejercicio 23:\n",
    "\n",
    "Escriba un programa que pida un valor límite positivo y a continuación pida números hasta que la suma de los números introducidos supere el límite inicial.\n",
    "\n",
    "\n",
    "<b>Salida deseada:</b><br><br>\n",
    "HASTA EL LÍMITE<br>\n",
    "Escriba el valor límite: -3<br>\n",
    "El límite debe ser mayor que 0. Inténtelo de nuevo: 0<br>\n",
    "El límite debe ser mayor que 0. Inténtelo de nuevo: 5.5<br>\n",
    "Escriba un número: 7.2<br>\n",
    "Ha superado el límite. La suma de los números introducidos es 7.2.<br>\n",
    "<br>\n",
    "HASTA EL LÍMITE<br>\n",
    "Escriba el valor límite: 12<br>\n",
    "Escriba un número: 5.2<br>\n",
    "Escriba otro número: -1<br>\n",
    "Escriba otro número: 9<br>\n",
    "Ha superado el límite. La suma de los números introducidos es 13.2."
   ]
  },
  {
   "cell_type": "code",
   "execution_count": 52,
   "metadata": {},
   "outputs": [
    {
     "name": "stdout",
     "output_type": "stream",
     "text": [
      "HASTA EL LIMITE\n",
      "Escriba el valor límite: 0\n",
      "El límite debe ser mayor que 0. Inténtelo de nuevo: -9\n",
      "El límite debe ser mayor que 0. Inténtelo de nuevo: -9\n",
      "El límite debe ser mayor que 0. Inténtelo de nuevo: 10\n",
      "Escriba un número: 1\n",
      "Escriba un número: 2\n",
      "Escriba un número: 3\n",
      "Escriba un número: 4\n",
      "Escriba un número: 5\n",
      "Ha superado el límite. La suma de los números introducidos es  15.0\n"
     ]
    }
   ],
   "source": [
    "# Escriba el código aqui\n",
    "print(\"HASTA EL LIMITE\")\n",
    "limite=float(input(\"Escriba el valor límite: \"))\n",
    "c=0\n",
    "while not limite > 0:\n",
    "    limite=float(input(\"El límite debe ser mayor que 0. Inténtelo de nuevo: \"))\n",
    "limite2=float(input(\"Escriba un número: \"))\n",
    "c=c+limite2\n",
    "while c <= limite:\n",
    "    limite2=float(input(\"Escriba un número: \"))\n",
    "    c=c+limite2\n",
    "print(\"Ha superado el límite. La suma de los números introducidos es \",c)        "
   ]
  },
  {
   "cell_type": "markdown",
   "metadata": {},
   "source": [
    "## Ejercicio 24:\n",
    "\n",
    "Escriba un programa que calcule la descomposición en factores primos de un número.\n",
    "\n",
    "<b>Salida deseada:</b><br><br>\n",
    "DESCOMPOSICIÓN EN FACTORES PRIMOS<br>\n",
    "Escriba un número entero mayor que 1: 500<br>\n",
    "Descomposición en factores primos: 2 2 5 5 5<br>\n",
    "<br>\n",
    "DESCOMPOSICIÓN EN NÚMEROS PRIMOS<br>\n",
    "Escriba un número entero mayor que 1: 521<br>\n",
    "Descomposición en factores primos: 521<br>\n",
    "<br>\n",
    "DESCOMPOSICIÓN EN NÚMEROS PRIMOS<br>\n",
    "Escriba un número entero mayor que 1: 1<br>\n",
    "1 no es mayor que 1. Inténtelo de nuevo: 720<br>\n",
    "Descomposición en factores primos: 2 2 2 2 3 3 5"
   ]
  },
  {
   "cell_type": "code",
   "execution_count": 4,
   "metadata": {},
   "outputs": [
    {
     "name": "stdout",
     "output_type": "stream",
     "text": [
      "DESCOMPOSICIÓN EN FACTORES PRIMOS\n",
      "Escriba un número entero mayor que 1: 875758\n",
      "Descomposición en factores primos: 2 13 13 2591 "
     ]
    }
   ],
   "source": [
    "# Escriba el código aqui\n",
    "print(\"DESCOMPOSICIÓN EN FACTORES PRIMOS\")\n",
    "primo=int(input(\"Escriba un número entero mayor que 1: \" ))\n",
    "noprimos=list(range(1,primo+1))\n",
    "primos=[2,3,5,7,11]\n",
    "for x in range(11,len(noprimos)//2+1):\n",
    "    if(not noprimos[x]%2==0 and not noprimos[x]%3==0 and not noprimos[x]%5==0 and not noprimos[x]%7==0 and not noprimos[x]%11==0):\n",
    "        primos.append(noprimos[x])\n",
    "primos.append(primo)\n",
    "print(\"Descomposición en factores primos: \",end=\"\")\n",
    "for i in range(0,len(primos)):\n",
    "        while primo%primos[i]==0:\n",
    "            primo=(primo/primos[i])\n",
    "            print(primos[i],end=\" \")"
   ]
  },
  {
   "cell_type": "markdown",
   "metadata": {},
   "source": [
    "### Ejercicio 25:\n",
    "\n",
    "Escriba un programa que muestre números al azar del 1 al 6 mientras lo pida el usuario. El programa debe mostrar la suma de los números anteriores.\n",
    "\n",
    "<b>Salida deseada:</b><br>\n",
    "\n",
    "Juego del Azar<br>\n",
    "Pulse Intro para lanzar el dado. Pulse otra tecla e Intro para terminar:<br>\n",
    "Tirada: 2 - Suma: 2<br>\n",
    "<br>\n",
    "Pulse Intro para lanzar el dado. Pulse otra tecla e Intro para terminar:<br>\n",
    "Tirada: 5 - Suma: 7<br>\n",
    "<br>\n",
    "Pulse Intro para lanzar el dado. Pulse otra tecla e Intro para terminar:<br>\n",
    "Tirada: 4 - Suma: 11<br>\n",
    "<br>\n",
    "Pulse Intro para lanzar el dado. Pulse otra tecla e Intro para terminar: x<br>\n",
    "Programa terminado."
   ]
  },
  {
   "cell_type": "code",
   "execution_count": 232,
   "metadata": {},
   "outputs": [
    {
     "name": "stdout",
     "output_type": "stream",
     "text": [
      "Juego del Azar\n",
      "Pulse Intro para lanzar el dado. Pulse otra tecla e Intro para terminar: \n",
      "Tirada: 1 - Suma: 1\n",
      "Pulse Intro para lanzar el dado. Pulse otra tecla e Intro para terminar: \n",
      "Tirada: 5 - Suma: 6\n",
      "Pulse Intro para lanzar el dado. Pulse otra tecla e Intro para terminar: \n",
      "Tirada: 4 - Suma: 10\n",
      "Pulse Intro para lanzar el dado. Pulse otra tecla e Intro para terminar: \n",
      "Tirada: 2 - Suma: 12\n",
      "Pulse Intro para lanzar el dado. Pulse otra tecla e Intro para terminar: \n",
      "Tirada: 5 - Suma: 17\n",
      "Pulse Intro para lanzar el dado. Pulse otra tecla e Intro para terminar: s\n",
      "Tirada: 3 - Suma: 20\n",
      "Programa terminado.\n"
     ]
    }
   ],
   "source": [
    "# Escriba el código aqui\n",
    "import random\n",
    "print(\"Juego del Azar\")\n",
    "r=input(\"Pulse Intro para lanzar el dado. Pulse otra tecla e Intro para terminar: \")\n",
    "numero=random.randint(1,6)\n",
    "suma=numero\n",
    "print(f\"Tirada: {numero} - Suma: {numero}\")\n",
    "while r==\"\":\n",
    "    r=input(\"Pulse Intro para lanzar el dado. Pulse otra tecla e Intro para terminar: \")\n",
    "    numero=random.randint(1,6)\n",
    "    suma=suma+numero\n",
    "    print(f\"Tirada: {numero} - Suma: {suma}\")\n",
    "print(\"Programa terminado.\")"
   ]
  },
  {
   "cell_type": "markdown",
   "metadata": {},
   "source": [
    "# Ejercicio 26:\n",
    "\n",
    "Escriba un programa que pida un número del 1 al 6, un número de jugadores y tire un dado para cada jugador. El 1er jugador obtenga el mismo número será el ganador.\n",
    "\n",
    "<b>Salida deseada:</b><br>\n",
    "\n",
    "JUEGO DE LOS DADOS<br>\n",
    "Número a acertar: 5<br>\n",
    "Número de jugadores: 1<br>\n",
    "¡Imposible!<br>\n",
    "<br>\n",
    "JUEGO DE LOS DADOS<br>\n",
    "Número a acertar: 5<br>\n",
    "Número de jugadores: 4<br>\n",
    "Jugador 1: 3<br>\n",
    "Jugador 2: 3<br>\n",
    "Jugador 3: 5<br>\n",
    "El ganador es el Jugador 3.<br>\n",
    "<br>\n",
    "JUEGO DE LOS DADOS<br>\n",
    "Número a acertar: 5<br>\n",
    "Número de jugadores: 3<br>\n",
    "Jugador 1: 4<br>\n",
    "Jugador 2: 4<br>\n",
    "Jugador 3: 1<br>\n",
    "No existe ganadores."
   ]
  },
  {
   "cell_type": "code",
   "execution_count": 73,
   "metadata": {},
   "outputs": [
    {
     "name": "stdout",
     "output_type": "stream",
     "text": [
      "JUEGO DE LOS DADOS\n",
      "Número a acertar (1 al 6): 4\n",
      "Número de jugadores: 3\n",
      "Jugador 1: 5\n",
      "Jugador 2: 6\n",
      "Jugador 3: 6\n",
      "No existe ganadores.\n"
     ]
    }
   ],
   "source": [
    "# Escriba el código aqui\n",
    "import random\n",
    "print(\"JUEGO DE LOS DADOS\")\n",
    "c=int(input(\"Número a acertar (1 al 6): \"))\n",
    "x=0\n",
    "if(c>0 and c<=6):\n",
    "    k=int(input(\"Número de jugadores: \"))\n",
    "    ganador=False\n",
    "    while x < k:\n",
    "        x=x+1\n",
    "        jugador=random.randint(1, 6)\n",
    "        print(f\"Jugador {x}: {jugador}\")\n",
    "        if(jugador==c):\n",
    "            print(f\"El ganador es el jugador {x}\")\n",
    "            ganador=True\n",
    "            break\n",
    "    if(not ganador):\n",
    "        print(\"No existe ganadores.\")\n",
    "else:\n",
    "    print(\"No cumple las condiciones para jugar\")"
   ]
  },
  {
   "cell_type": "markdown",
   "metadata": {},
   "source": [
    "#### Ejercicio 27:\n",
    "\n",
    "Escribir un programa que genere <b>una cadena de 4 caracteres aleatorios</b> que usen minúsculas y números en una variable, pregunte al usuario si desea averiguar la cadena o utilizar fuerza bruta para conseguir la contraseña correcta. En caso de usar la opción de fuerza bruta, declarar la cantidad de iteraciones utilizadas para encontrar la contraseña por fuerza bruta.\n",
    "\n",
    "<b>Salida deseada:</b><br>\n",
    "\n",
    "QUEBRAR UNA CONTRASEÑA<br>\n",
    "\n",
    "El programa generó una contraseña.<br>\n",
    "\n",
    "¿Desea adivinar la contraseña (opción a) o desea utilizar fuerza bruta (opción fb)?: a<br>\n",
    "Introduce la contraseña:  1234<br>\n",
    "¡Incorrecto!\n",
    "\n",
    "¿Desea adivinar la contraseña (opción a) o desea utilizar fuerza bruta (opción fb)?: a<br>\n",
    "Introduce la contraseña:  pass<br>\n",
    "¡Contraseña correcta!<br>\n",
    "<br>\n",
    "<br>\n",
    "QUEBRAR UNA CONTRASEÑA<br>\n",
    "\n",
    "El programa generó una contraseña.<br>\n",
    "\n",
    "¿Desea adivinar la contraseña (opción a) o desea utilizar fuerza bruta (opción fb)?: a<br>\n",
    "Introduce la contraseña:  cont<br>\n",
    "¡Incorrecto!\n",
    "\n",
    "¿Desea adivinar la contraseña (opción a) o desea utilizar fuerza bruta (opción fb)?: fb<br>\n",
    "Se realizó 3465 iteraciones para encontrar la contraseña correcta: abc5<br>\n"
   ]
  },
  {
   "cell_type": "code",
   "execution_count": 6,
   "metadata": {},
   "outputs": [
    {
     "name": "stdout",
     "output_type": "stream",
     "text": [
      "QUEBRAR UNA CONTRASEÑA\n",
      "El programa generó una contraseña\n",
      "¿Desea adivinar la contraseña (opción a) o desea utilizar fuerza bruta (opción b)?: b\n",
      "Se realizó 1617860 iteraciones para encontrar la contraseña correcta: 8ymt\n"
     ]
    }
   ],
   "source": [
    "# Escriba el código aqui\n",
    "import random\n",
    "print(\"QUEBRAR UNA CONTRASEÑA\")\n",
    "c = ''\n",
    "for i in range(4):\n",
    "    c = c + random.choice(\"abcdefghijklmnopqrstuvwxyz0123456789\")\n",
    "print(\"El programa generó una contraseña\")\n",
    "r = input(\"¿Desea adivinar la contraseña (opción a) o desea utilizar fuerza bruta (opción b)?: \")\n",
    "if r == 'a':\n",
    "    prueba = input(\"Introduce la contraseña: \")\n",
    "    if prueba == c:\n",
    "        print(\"¡Contraseña correcta!\")\n",
    "    else:\n",
    "        print(\"¡Incorrecto!\")\n",
    "else:\n",
    "    cont = 1\n",
    "    posibilidades = ['a','b','c','d','e','f','g','h','i','j','k','l','m','n','o','p','q','r','s','t','u','v','w','x','y','z','0','1','2','3','4','5','6','7','8','9']\n",
    "    ch1,ch2,ch3,ch4 = 0,0,0,0\n",
    "    f = [posibilidades[ch1],posibilidades[ch2],posibilidades[ch3],posibilidades[ch4]]\n",
    "    while ''.join(f) != c:\n",
    "        cont += 1\n",
    "        if ch4<len(posibilidades)-1:\n",
    "            ch4 += 1\n",
    "        elif ch3<len(posibilidades)-1:\n",
    "            ch4 = 0\n",
    "            ch3 += 1\n",
    "        elif ch2<len(posibilidades)-1:\n",
    "            ch4=0\n",
    "            ch3=0\n",
    "            ch2+=1\n",
    "        elif ch1<len(posibilidades)-1:\n",
    "            ch4=0\n",
    "            ch3=0\n",
    "            ch2=0\n",
    "            ch1+=1      \n",
    "        f = [posibilidades[ch1],posibilidades[ch2],posibilidades[ch3],posibilidades[ch4]]         \n",
    "    print(f\"Se realizó {cont} iteraciones para encontrar la contraseña correcta: {''.join(f)}\")"
   ]
  },
  {
   "cell_type": "markdown",
   "metadata": {},
   "source": [
    "### Ejercicio 28:\n",
    "\n",
    "Escriba un programa para jugar a adivinar un número (el ordenador \"piensa\" el número y el usuario tiene que adivinarlo). El programa empieza pidiendo entre qué números está el número a adivinar, se \"inventa\" un número al azar y después el usuario va probando valores y el programa va diciendo si son demasiado grandes o pequeños.\n",
    "\n",
    "<b>Salida deseada:</b><br>\n",
    "\n",
    "Valor mínimo: 0<br>\n",
    "Valor máximo: 100<br>\n",
    "Intente adivinar un número entero entre 0 y 100.<br>\n",
    "Escriba un número: 20<br>\n",
    "¡Demasiado pequeño! Inténtelo de nuevo: 30<br>\n",
    "¡Demasiado grande! Inténtelo de nuevo: 27<br>\n",
    "¡Acertó! Le ha costado 3 intentos.\n",
    "\n",
    "<b>Sugerencia:</b> puede perfeccionar este programa haciendo:\n",
    "\n",
    "* que al principio el programa se asegure de que el valor máximo es superior al valor mínimo.\n",
    "* que el programa detecte \"trampas\", por ejemplo, si al decir 25 le decimos \"mayor\" y al decir 26 le decimos \"menor\", el programa debe decirnos que estamos haciendo trampas y dejar de jugar."
   ]
  },
  {
   "cell_type": "code",
   "execution_count": 78,
   "metadata": {},
   "outputs": [
    {
     "name": "stdout",
     "output_type": "stream",
     "text": [
      "Valor mínimo: 1\n",
      "Valor máximo: 3500\n",
      "Escriba un número: 12\n",
      "¡Demasiado pequeño! Inténtelo de nuevo: 123\n",
      "¡Demasiado pequeño! Inténtelo de nuevo: 140\n",
      "¡Demasiado pequeño! Inténtelo de nuevo: 230\n",
      "¡Demasiado pequeño! Inténtelo de nuevo: 2300\n",
      "¡Demasiado pequeño! Inténtelo de nuevo: 2800\n",
      "¡Demasiado pequeño! Inténtelo de nuevo: 3100\n",
      "¡Demasiado grande! Inténtelo de nuevo: 3029\n",
      "¡Demasiado pequeño! Inténtelo de nuevo: 3040\n",
      "¡Demasiado pequeño! Inténtelo de nuevo: 3070\n",
      "¡Demasiado pequeño! Inténtelo de nuevo: 3088\n",
      "¡Demasiado grande! Inténtelo de nuevo: 3080\n",
      "¡Demasiado grande! Inténtelo de nuevo: 3077\n",
      "¡Acertó! Le ha costado 12 intentos.\n"
     ]
    }
   ],
   "source": [
    "# Escriba el código aqui\n",
    "minimo=int(input(\"Valor mínimo: \"))\n",
    "maximo=int(input(\"Valor máximo: \"))\n",
    "if(minimo<maximo):\n",
    "    adivi=random.randint(minimo, maximo)\n",
    "    numero=int(input(\"Escriba un número: \"))\n",
    "    c=0\n",
    "    while(not numero==adivi):\n",
    "        if(numero<adivi):\n",
    "            numero=int(input(\"¡Demasiado pequeño! Inténtelo de nuevo: \"))\n",
    "            c=c+1\n",
    "        else:\n",
    "            numero=int(input(\"¡Demasiado grande! Inténtelo de nuevo: \"))\n",
    "            c=c+1\n",
    "    print(f\"¡Acertó! Le ha costado {c} intentos.\")\n",
    "else:\n",
    "    print(\"No cumple las condiciones para jugar\")"
   ]
  },
  {
   "cell_type": "markdown",
   "metadata": {},
   "source": [
    "# Ejercicio 29:\n",
    "\n",
    "Escribir un programa que pida al usuario un número entero y muestre por pantalla un triángulo rectángulo de Fibonacci.\n",
    "\n",
    "<b>Salida deseada:</b><br><br>\n",
    "Introduce la altura del triángulo (entero positivo):  7<br>\n",
    "\n",
    "1 <br>\n",
    "1 1<br>\n",
    "1 1 2<br>\n",
    "1 1 2 3<br>\n",
    "1 1 2 3 5<br>\n",
    "1 1 2 3 5 8<br>\n",
    "1 1 2 3 5 8 13<br>"
   ]
  },
  {
   "cell_type": "code",
   "execution_count": 1,
   "metadata": {},
   "outputs": [
    {
     "name": "stdout",
     "output_type": "stream",
     "text": [
      "Introduce la altura del triángulo (entero positivo)= 21\n",
      " \n",
      " \n",
      "1  \n",
      "1 1  \n",
      "1 1 2  \n",
      "1 1 2 3  \n",
      "1 1 2 3 5  \n",
      "1 1 2 3 5 8  \n",
      "1 1 2 3 5 8 13  \n",
      "1 1 2 3 5 8 13 21  \n",
      "1 1 2 3 5 8 13 21 34  \n",
      "1 1 2 3 5 8 13 21 34 55  \n",
      "1 1 2 3 5 8 13 21 34 55 89  \n",
      "1 1 2 3 5 8 13 21 34 55 89 144  \n",
      "1 1 2 3 5 8 13 21 34 55 89 144 233  \n",
      "1 1 2 3 5 8 13 21 34 55 89 144 233 377  \n",
      "1 1 2 3 5 8 13 21 34 55 89 144 233 377 610  \n",
      "1 1 2 3 5 8 13 21 34 55 89 144 233 377 610 987  \n",
      "1 1 2 3 5 8 13 21 34 55 89 144 233 377 610 987 1597  \n",
      "1 1 2 3 5 8 13 21 34 55 89 144 233 377 610 987 1597 2584  \n",
      "1 1 2 3 5 8 13 21 34 55 89 144 233 377 610 987 1597 2584 4181  \n",
      "1 1 2 3 5 8 13 21 34 55 89 144 233 377 610 987 1597 2584 4181 6765  \n",
      "1 1 2 3 5 8 13 21 34 55 89 144 233 377 610 987 1597 2584 4181 6765 10946 "
     ]
    }
   ],
   "source": [
    "# Escriba el código aqui\n",
    "altura=int(input(\"Introduce la altura del triángulo (entero positivo)= \"))\n",
    "lista=[1]\n",
    "A=1\n",
    "B=0\n",
    "c=1\n",
    "while c<=altura:\n",
    "    lista.append(A)\n",
    "    B=lista[c-1]\n",
    "    A=A+B\n",
    "    c=c+1\n",
    "for i in (range(0,len(lista))):\n",
    "    print(\" \")\n",
    "    for l in range(0,i):\n",
    "            print(lista[l],end=\" \")"
   ]
  },
  {
   "cell_type": "markdown",
   "metadata": {},
   "source": [
    "### Ejercicio 30:\n",
    "\n",
    "Implemente un programa que sea capaz de calcular el resultado de aplicarla formula siguiente (n i)=n!/(i!\\*(n-i)!). Para ello usted debe leer un numero por teclado que debe ser mayor e igual que cero teniendo en cuenta además que n tiene que ser necesariamente mayor que i y además calcular el factorial de un número."
   ]
  },
  {
   "cell_type": "code",
   "execution_count": 3,
   "metadata": {},
   "outputs": [
    {
     "name": "stdout",
     "output_type": "stream",
     "text": [
      "Ingrese n: 9\n",
      "Ingrese i: 2\n",
      "Realizaremos el calculo (n i)=n!/(i!*(n-i)!)\n",
      "(9 2) = 36.0\n"
     ]
    }
   ],
   "source": [
    "# Escriba el código aqui\n",
    "import math\n",
    "#def factorial(x, n):\n",
    "#    if (n > 0):\n",
    "#        x = factorial(x, n - 1)\n",
    "#        x = x * n\n",
    "#    else:\n",
    "#        x = 1\n",
    "#    return x\n",
    "def factorial(n):\n",
    "    num=1\n",
    "    x=2\n",
    "    while x<=n:\n",
    "        num = x * num\n",
    "        x=x+1\n",
    "    return num\n",
    "n=int(input(\"Ingrese n: \"))\n",
    "while not n>0:\n",
    "    n=int(input(\"Ingrese n mayor a 0: \"))\n",
    "i=int(input(\"Ingrese i: \"))\n",
    "while i>=n or i<=0:\n",
    "    i=int(input(\"Ingrese i menor a n y superior a 0: \"))\n",
    "print(\"Realizaremos el calculo (n i)=n!/(i!*(n-i)!)\")\n",
    "#calculo=round(factorial(1,n)/(factorial(1,i)*factorial(1,n-i)),4)\n",
    "calculo=round(factorial(n)/(factorial(i)*factorial(n-i)),4)\n",
    "print(f\"({n} {i}) = {calculo}\")"
   ]
  },
  {
   "cell_type": "code",
   "execution_count": null,
   "metadata": {},
   "outputs": [],
   "source": []
  }
 ],
 "metadata": {
  "kernelspec": {
   "display_name": "Python 3",
   "language": "python",
   "name": "python3"
  },
  "language_info": {
   "codemirror_mode": {
    "name": "ipython",
    "version": 3
   },
   "file_extension": ".py",
   "mimetype": "text/x-python",
   "name": "python",
   "nbconvert_exporter": "python",
   "pygments_lexer": "ipython3",
   "version": "3.7.4"
  }
 },
 "nbformat": 4,
 "nbformat_minor": 2
}
